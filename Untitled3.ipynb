{
 "cells": [
  {
   "cell_type": "markdown",
   "id": "9396736a-262a-4a11-93c8-8ff155fe0877",
   "metadata": {},
   "source": [
    "### 1. explain the key features of Python that make it a popular choice for programming ?"
   ]
  },
  {
   "cell_type": "raw",
   "id": "1fe27d6b-2161-4ddf-9920-af0d7d064829",
   "metadata": {},
   "source": [
    "1.free and open source \n",
    "2.easy to code and easy to read \n",
    "3.large standard library\n",
    "4.largr community support\n",
    "5.interpreted language\n",
    "6.widely used in industry"
   ]
  },
  {
   "cell_type": "markdown",
   "id": "5f047f8f-dd2b-4373-91d6-4c799771badc",
   "metadata": {},
   "source": [
    "## 2. describe the role of predefined keywords in Python and provide examples of how they are used in a program ?"
   ]
  },
  {
   "cell_type": "code",
   "execution_count": 1,
   "id": "22639a39-7596-428c-86a9-6fade65c1bf9",
   "metadata": {},
   "outputs": [
    {
     "name": "stdout",
     "output_type": "stream",
     "text": [
      "statement is true\n"
     ]
    }
   ],
   "source": [
    "#Python Keywords are some predefined and reserved words in Python that have special meanings. Keywords are used to define the syntax of the coding. The keyword cannot be used as an identifier, function, or variable name. All the keywords in Python are written in lowercase except True and False. There are 35 keywords in Python 3.11.\n",
    "# ex:else,if,elif,break,continue,True,False etc.\n",
    "# used with example\n",
    "num=True\n",
    "if(num):\n",
    "    print(\"statement is true\")\n",
    "else:\n",
    "    print(\"false\")"
   ]
  },
  {
   "cell_type": "markdown",
   "id": "e2dd5d8f-d438-4a20-9692-d3282cee3455",
   "metadata": {},
   "source": [
    "## 3.Compare and contrast mutable and immutable objects in Python with examples ?"
   ]
  },
  {
   "cell_type": "code",
   "execution_count": 2,
   "id": "a8916d7e-f628-4e0a-9bbd-8bae79a99d7a",
   "metadata": {},
   "outputs": [
    {
     "data": {
      "text/plain": [
       "[1, 2, 'ram', 'ajay', 4.5, True]"
      ]
     },
     "execution_count": 2,
     "metadata": {},
     "output_type": "execute_result"
    }
   ],
   "source": [
    "# Mutable Data Type \n",
    "\"\"\"\n",
    "A mutable data type is those whose values can be changed in any time .\n",
    "not inherently thread_safe\n",
    "ex:list,set,dictionary\n",
    "\"\"\"\n",
    "# Immutable Data Type – \n",
    "\"\"\"\n",
    "An immutable data type is one in which after creation the values can't be changed or altered.\n",
    "there are inherently thread safe due to their unchangeable nature\n",
    "ex:string,tuple etc.\n",
    "\"\"\"\n",
    "# operation of mutuablity \n",
    "lis=[1,2,\"ram\",\"ajay\",4.5,True]\n",
    "lis"
   ]
  },
  {
   "cell_type": "code",
   "execution_count": 3,
   "id": "e8f9d88b-9d45-41fc-aa43-5c3e6c8ba6cb",
   "metadata": {},
   "outputs": [
    {
     "data": {
      "text/plain": [
       "[1, 2, 'krishna', 'ajay', 4.5, True]"
      ]
     },
     "execution_count": 3,
     "metadata": {},
     "output_type": "execute_result"
    }
   ],
   "source": [
    "lis[2]=\"krishna\" # here after creation we change the value \n",
    "lis"
   ]
  },
  {
   "cell_type": "code",
   "execution_count": 4,
   "id": "1055f668-273f-4031-96ee-d33c967869f9",
   "metadata": {},
   "outputs": [
    {
     "data": {
      "text/plain": [
       "(1, 2, 'ram', 'ajay', 4.5)"
      ]
     },
     "execution_count": 4,
     "metadata": {},
     "output_type": "execute_result"
    }
   ],
   "source": [
    "# immutability\n",
    "tu=(1,2,\"ram\",\"ajay\",4.5)\n",
    "tu"
   ]
  },
  {
   "cell_type": "code",
   "execution_count": 5,
   "id": "adcf88f5-ea03-4119-a829-7fcbe97e0fe9",
   "metadata": {},
   "outputs": [
    {
     "data": {
      "text/plain": [
       "tuple"
      ]
     },
     "execution_count": 5,
     "metadata": {},
     "output_type": "execute_result"
    }
   ],
   "source": [
    "type(tu)"
   ]
  },
  {
   "cell_type": "code",
   "execution_count": 7,
   "id": "8c076843-6f9a-4993-a350-99d464c2f4ed",
   "metadata": {},
   "outputs": [
    {
     "ename": "TypeError",
     "evalue": "'tuple' object does not support item assignment",
     "output_type": "error",
     "traceback": [
      "\u001b[1;31m---------------------------------------------------------------------------\u001b[0m",
      "\u001b[1;31mTypeError\u001b[0m                                 Traceback (most recent call last)",
      "Cell \u001b[1;32mIn[7], line 2\u001b[0m\n\u001b[0;32m      1\u001b[0m \u001b[38;5;66;03m# here we can see that 'tu'is a tuple and after creation we cannot change the value .error occurs\u001b[39;00m\n\u001b[1;32m----> 2\u001b[0m tu[\u001b[38;5;241m2\u001b[39m]\u001b[38;5;241m=\u001b[39m\u001b[38;5;124m\"\u001b[39m\u001b[38;5;124mkrishna\u001b[39m\u001b[38;5;124m\"\u001b[39m\n",
      "\u001b[1;31mTypeError\u001b[0m: 'tuple' object does not support item assignment"
     ]
    }
   ],
   "source": [
    "# here we can see that 'tu'is a tuple and after creation we cannot change the value .error occurs\n",
    "tu[2]=\"krishna\""
   ]
  },
  {
   "cell_type": "markdown",
   "id": "8418e835-c6a9-46ec-94bd-8a00805f77d2",
   "metadata": {},
   "source": [
    "## 4. Discuss the different types of operators in Python and provide examples of how they are used ?"
   ]
  },
  {
   "cell_type": "code",
   "execution_count": 15,
   "id": "0818efda-2575-4d07-9be8-2b9b977d1f22",
   "metadata": {},
   "outputs": [],
   "source": [
    "# in python 7 types of operators are present\n",
    "\"\"\"\n",
    "1.Arithmatic(+,-,*,/,%) 2.Comparison(==,>,<,<=,>=,!=) 3.Logical(and ,or etc) 4.Bitwise(&,|,-,^,<<,>>) 5.Assignment(=,+=,-=,*=) 6.Membership(in,not in) 7.Identity(is,is not)operators\n",
    "\"\"\"\n",
    "#arithmatic\n",
    "res=3+2*5//2\n"
   ]
  },
  {
   "cell_type": "code",
   "execution_count": 16,
   "id": "4b1e716a-671a-4ac7-9b3d-3e8d3407dd1c",
   "metadata": {},
   "outputs": [
    {
     "data": {
      "text/plain": [
       "8"
      ]
     },
     "execution_count": 16,
     "metadata": {},
     "output_type": "execute_result"
    }
   ],
   "source": [
    "res"
   ]
  },
  {
   "cell_type": "code",
   "execution_count": 17,
   "id": "e7cf395d-8943-4233-8afb-32c33f360930",
   "metadata": {},
   "outputs": [
    {
     "data": {
      "text/plain": [
       "True"
      ]
     },
     "execution_count": 17,
     "metadata": {},
     "output_type": "execute_result"
    }
   ],
   "source": [
    "## comparison operator->>> compare between two values and return bool value(means true or false)\n",
    "2==2"
   ]
  },
  {
   "cell_type": "code",
   "execution_count": 18,
   "id": "17759d7c-683e-4077-874a-ddd44d42372c",
   "metadata": {},
   "outputs": [
    {
     "data": {
      "text/plain": [
       "True"
      ]
     },
     "execution_count": 18,
     "metadata": {},
     "output_type": "execute_result"
    }
   ],
   "source": [
    "# logical operator \n",
    "True and True"
   ]
  },
  {
   "cell_type": "code",
   "execution_count": 19,
   "id": "ac9bccd3-ca27-4682-98d0-9b56e6eac800",
   "metadata": {},
   "outputs": [
    {
     "data": {
      "text/plain": [
       "False"
      ]
     },
     "execution_count": 19,
     "metadata": {},
     "output_type": "execute_result"
    }
   ],
   "source": [
    "True and False"
   ]
  },
  {
   "cell_type": "code",
   "execution_count": 20,
   "id": "3fea807f-aceb-42a2-8132-40b9ce80d228",
   "metadata": {},
   "outputs": [
    {
     "data": {
      "text/plain": [
       "15"
      ]
     },
     "execution_count": 20,
     "metadata": {},
     "output_type": "execute_result"
    }
   ],
   "source": [
    "# assignment operator(=,+=,-=,*=,/=)\n",
    "b=5 # here we assigning the value of b\n",
    "b+=10\n",
    "b"
   ]
  },
  {
   "cell_type": "code",
   "execution_count": 21,
   "id": "4427f289-35fb-4b4f-950b-08ed28c7c360",
   "metadata": {},
   "outputs": [
    {
     "data": {
      "text/plain": [
       "True"
      ]
     },
     "execution_count": 21,
     "metadata": {},
     "output_type": "execute_result"
    }
   ],
   "source": [
    "# membership operators (in,not in )->>> it always returns the bool value \n",
    "a =\"alokpandey\"\n",
    "\"a\" in a"
   ]
  },
  {
   "cell_type": "code",
   "execution_count": 23,
   "id": "c79816d1-a691-4094-afe7-fd02f914a4ce",
   "metadata": {},
   "outputs": [
    {
     "data": {
      "text/plain": [
       "True"
      ]
     },
     "execution_count": 23,
     "metadata": {},
     "output_type": "execute_result"
    }
   ],
   "source": [
    "\"s\"not in  a"
   ]
  },
  {
   "cell_type": "code",
   "execution_count": 24,
   "id": "6d663423-95fd-43ba-b37f-41068171e4ef",
   "metadata": {},
   "outputs": [
    {
     "data": {
      "text/plain": [
       "True"
      ]
     },
     "execution_count": 24,
     "metadata": {},
     "output_type": "execute_result"
    }
   ],
   "source": [
    "# membership operator also used in list \n",
    "list_container = ['data','science','love']\n",
    "'data' in list_container"
   ]
  },
  {
   "cell_type": "code",
   "execution_count": 25,
   "id": "2e113639-ff91-48a1-b89f-273c7d5452cd",
   "metadata": {},
   "outputs": [
    {
     "data": {
      "text/plain": [
       "False"
      ]
     },
     "execution_count": 25,
     "metadata": {},
     "output_type": "execute_result"
    }
   ],
   "source": [
    "# identity  operators (is ,is not)->> it compares two different blocks or variable \n",
    "a=2\n",
    "b=3\n",
    "a is b"
   ]
  },
  {
   "cell_type": "code",
   "execution_count": 26,
   "id": "64497336-ed53-43e9-88ba-9de5c6d4587d",
   "metadata": {},
   "outputs": [
    {
     "data": {
      "text/plain": [
       "True"
      ]
     },
     "execution_count": 26,
     "metadata": {},
     "output_type": "execute_result"
    }
   ],
   "source": [
    "a is not b"
   ]
  },
  {
   "cell_type": "code",
   "execution_count": 27,
   "id": "8ff8777f-86fb-4232-bcbe-a918675bf357",
   "metadata": {},
   "outputs": [
    {
     "data": {
      "text/plain": [
       "10"
      ]
     },
     "execution_count": 27,
     "metadata": {},
     "output_type": "execute_result"
    }
   ],
   "source": [
    "# bitwise operator (&,|,^ etc) operation going on bit level ex 10 & 10\n",
    "\"\"\"\n",
    "10->>> 1010\n",
    "10->>> 1010 , we use bitwise and \n",
    "so ans=1010 ,it is also 10\n",
    "\"\"\"\n",
    "10 & 10"
   ]
  },
  {
   "cell_type": "code",
   "execution_count": 28,
   "id": "46fb0575-8b99-47c9-952e-888d720abd0f",
   "metadata": {},
   "outputs": [
    {
     "data": {
      "text/plain": [
       "1"
      ]
     },
     "execution_count": 28,
     "metadata": {},
     "output_type": "execute_result"
    }
   ],
   "source": [
    "5^4"
   ]
  },
  {
   "cell_type": "markdown",
   "id": "d5d33329-9e50-44f2-8195-48c0197d93cb",
   "metadata": {},
   "source": [
    "## 5.explain the concept of type casting in Python with examples ?"
   ]
  },
  {
   "cell_type": "code",
   "execution_count": 30,
   "id": "9df728e2-41a4-4985-9460-3b5026640ce1",
   "metadata": {},
   "outputs": [
    {
     "data": {
      "text/plain": [
       "5.0"
      ]
     },
     "execution_count": 30,
     "metadata": {},
     "output_type": "execute_result"
    }
   ],
   "source": [
    "# typecasting ->>  here we cast one data types to another data types.Two types of typecasting one is implicit and another is explicit \n",
    "# now implicit\n",
    "2+3.0"
   ]
  },
  {
   "cell_type": "code",
   "execution_count": 32,
   "id": "ea352475-d157-441f-92a7-389ae574ba4e",
   "metadata": {},
   "outputs": [
    {
     "data": {
      "text/plain": [
       "int"
      ]
     },
     "execution_count": 32,
     "metadata": {},
     "output_type": "execute_result"
    }
   ],
   "source": [
    "# explicit \n",
    "a=\"2\" # at first a is str type \n",
    "b=int (a)\n",
    "type (b)"
   ]
  },
  {
   "cell_type": "markdown",
   "id": "7e00eb0d-d95b-4383-9eee-4185ed6aaacf",
   "metadata": {},
   "source": [
    "## 6. How do conditional statements work in Python? Illustrate with examples ?"
   ]
  },
  {
   "cell_type": "code",
   "execution_count": 33,
   "id": "9c32c155-2884-482e-a2bf-0bb0685e2c42",
   "metadata": {},
   "outputs": [
    {
     "name": "stdout",
     "output_type": "stream",
     "text": [
      "hare krisna\n"
     ]
    }
   ],
   "source": [
    "# in python coditional statements mainly\n",
    "\"\"\"\n",
    "1.if\n",
    "2.if-else (here at first check if block if condition false then else block will be executed) \n",
    "3.if-elif-else ( here at first check if block if condition false then check elif block if false then else block will be executed)\n",
    "4.nested if else (one block inside another block)\n",
    "\"\"\"\n",
    "#if\n",
    "data=True\n",
    "if data:\n",
    "    print(\"hare krisna\")"
   ]
  },
  {
   "cell_type": "code",
   "execution_count": 34,
   "id": "101c8d22-66e9-4cad-a704-21d608a8c7e8",
   "metadata": {},
   "outputs": [
    {
     "name": "stdout",
     "output_type": "stream",
     "text": [
      " i will watch tv\n"
     ]
    }
   ],
   "source": [
    "# if else block\n",
    "weather= \"sunny\"\n",
    "if weather == \"rainy\":\n",
    "    print(\" i wiil go to play football \") # indentation mandetory \n",
    "else:\n",
    "    print (\" i will watch tv\")"
   ]
  },
  {
   "cell_type": "code",
   "execution_count": 35,
   "id": "3078bae1-ff43-42f0-aafe-49786aa510f1",
   "metadata": {},
   "outputs": [
    {
     "name": "stdin",
     "output_type": "stream",
     "text": [
      "enter the number: 98\n"
     ]
    },
    {
     "name": "stdout",
     "output_type": "stream",
     "text": [
      "O+\n"
     ]
    }
   ],
   "source": [
    "#if_elif_else block\n",
    "# marks\n",
    "number=int(input(\"enter the number:\"))\n",
    "if((number<=100) & (number>=90)):\n",
    "    print(\"O+\")\n",
    "elif((number<90) & (number>=80)):\n",
    "    print(\"A+\")\n",
    "elif((number<80) & (number>=75)):\n",
    "    print(\"A\")\n",
    "elif((number<75) & (number>=60)):\n",
    "    print(\"B+\")\n",
    "elif((number<60) & (number>=50)):\n",
    "    print(\"B\")\n",
    "elif((number<50) & (number>=40)):\n",
    "    print(\"C+\")\n",
    "elif((number<40) & (number>=35)):\n",
    "    print(\"C\")\n",
    "else:\n",
    "    print(\"fail\")"
   ]
  },
  {
   "cell_type": "code",
   "execution_count": 36,
   "id": "60f8005a-75ce-4a3a-b3cc-91e08007fc49",
   "metadata": {},
   "outputs": [
    {
     "name": "stdin",
     "output_type": "stream",
     "text": [
      "enter the age 18\n"
     ]
    },
    {
     "name": "stdout",
     "output_type": "stream",
     "text": [
      "you are not capable for vip\n"
     ]
    }
   ],
   "source": [
    "# nested if else\n",
    "vip=True\n",
    "age=int(input(\"enter the age\"))\n",
    "if(vip):\n",
    "    if((age<=85) & (age>=60)):\n",
    "        if (( age<=60) & (age>50)):\n",
    "            print(\"only vip\")\n",
    "        else:\n",
    "            print(\"you are not only a vip person also a senior citizen\")\n",
    "    else:\n",
    "        print(\"you are not capable for vip\")\n",
    "else:\n",
    "    print(\"you are not a vip person\")"
   ]
  },
  {
   "cell_type": "markdown",
   "id": "650e339e-cc7e-440f-80e1-23f32d69a50c",
   "metadata": {},
   "source": [
    "## 7. Describe the different types of loops in Python and their use cases with examples."
   ]
  },
  {
   "cell_type": "code",
   "execution_count": 37,
   "id": "67b95c7d-0b37-4f25-860d-6e9e5596ccd6",
   "metadata": {},
   "outputs": [
    {
     "name": "stdout",
     "output_type": "stream",
     "text": [
      "1\n",
      "2\n",
      "3\n",
      "4\n",
      "5\n",
      "6\n"
     ]
    }
   ],
   "source": [
    "# loop ->>it allows you to execute a block of code repeatedly \n",
    "# in pythin two types of loop ->> while loop and for loop \n",
    "# now while loop \n",
    "# while->>repeatedly execute a block of code untill a condition is met \n",
    "i=1\n",
    "n=7\n",
    "while(i<n):\n",
    "    print(i)\n",
    "    i=i+1"
   ]
  },
  {
   "cell_type": "code",
   "execution_count": 38,
   "id": "c754ae49-a5d2-4723-a7b2-1d449f0f63dc",
   "metadata": {},
   "outputs": [
    {
     "name": "stdout",
     "output_type": "stream",
     "text": [
      "1\n",
      "2\n",
      "3\n"
     ]
    }
   ],
   "source": [
    "# now whilw else using break\n",
    "i=1\n",
    "n=7\n",
    "while(i<n):\n",
    "    print(i)\n",
    "    i=i+1\n",
    "    if(i==4):\n",
    "        break\n",
    "else:\n",
    "    print(\"while loop successfully executed\")"
   ]
  },
  {
   "cell_type": "code",
   "execution_count": null,
   "id": "14e86d36-aa13-41e0-9140-a152d2b0464a",
   "metadata": {},
   "outputs": [],
   "source": []
  }
 ],
 "metadata": {
  "kernelspec": {
   "display_name": "Python 3 (ipykernel)",
   "language": "python",
   "name": "python3"
  },
  "language_info": {
   "codemirror_mode": {
    "name": "ipython",
    "version": 3
   },
   "file_extension": ".py",
   "mimetype": "text/x-python",
   "name": "python",
   "nbconvert_exporter": "python",
   "pygments_lexer": "ipython3",
   "version": "3.11.7"
  }
 },
 "nbformat": 4,
 "nbformat_minor": 5
}
