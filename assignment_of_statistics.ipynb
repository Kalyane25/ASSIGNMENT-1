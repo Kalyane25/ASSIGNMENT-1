{
 "cells": [
  {
   "cell_type": "markdown",
   "id": "17346e46-d2cc-48f0-b498-9f2398af38d3",
   "metadata": {},
   "source": [
    "## 1. Explain the different types of data (qualitative and quantitative) and provide examples of each.Discuss nominal, ordinal, interval, and ratio scales."
   ]
  },
  {
   "cell_type": "code",
   "execution_count": 1,
   "id": "882aa6f2-4101-4b87-b562-160d8bf492e2",
   "metadata": {},
   "outputs": [
    {
     "data": {
      "text/plain": [
       "'\\n1. Nominal Scale\\nThe nominal scale is the simplest form of measurement and involves categorizing data into distinct groups or classes without any order or ranking. The numbers or labels assigned in a nominal scale have no quantitative meaning; they are simply identifiers.\\n\\nCharacteristics:\\n\\nCategories or labels without a specific order.\\nNo mathematical operations (e.g., addition or subtraction) are possible.\\nOnly countable for frequency analysis.\\nExamples:\\n\\nGender: Male, Female, Non-binary.\\nEye Color: Blue, Green, Brown.\\nTypes of Cuisine: Italian, Mexican, Chinese.\\n2. Ordinal Scale\\nThe ordinal scale arranges data in a specific order or rank but without precise intervals between categories. Although this scale reflects a relative ranking, it does not provide information on the exact differences between the rankings.\\n\\nCharacteristics:\\n\\nCategories have a defined order.\\nNo meaningful or consistent interval between ranks.\\nUsed for ordering or ranking but not for performing arithmetic operations.\\nExamples:\\n\\nCustomer Satisfaction: Very Satisfied, Satisfied, Neutral, Dissatisfied.\\nEducation Level: High School, Associate’s Degree, Bachelor’s Degree, Master’s Degree.\\nRanking in a Competition: 1st place, 2nd place, 3rd place.\\n3. Interval Scale\\nThe interval scale goes a step further by not only providing order but also ensuring equal intervals between values. However, interval scales lack a true zero point, meaning zero does not represent an absolute absence of the characteristic being measured.\\n\\nCharacteristics:\\n\\nEqual intervals between data points.\\nAllows for addition and subtraction but not for ratios.\\nNo true zero point; values can be positive or negative.\\nExamples:\\n\\nTemperature in Celsius or Fahrenheit: The difference between 20°C and 30°C is the same as between 30°C and 40°C, but 0°C does not mean \"no temperature.\"\\nIQ Scores: The interval between scores is consistent, but zero does not represent \"no intelligence.\"\\nCalendar Years: The intervals between years are equal, but there is no \"absolute zero year.\"\\n4. Ratio Scale\\nThe ratio scale is the most comprehensive scale of measurement, as it includes all the properties of the nominal, ordinal, and interval scales and has a true zero point. This allows for the full range of mathematical operations, including meaningful comparisons of magnitude (ratios).\\n\\nCharacteristics:\\n\\nEqual intervals between data points.\\nHas a true zero point, allowing for multiplication and division.\\nRatios are meaningful (e.g., twice as much, half as much).\\nExamples:\\n\\nHeight: A person who is 180 cm tall is twice as tall as someone who is 90 cm.\\nWeight: 0 kg means \"no weight,\" and a weight of 20 kg is twice as heavy as 10 kg.\\n'"
      ]
     },
     "execution_count": 1,
     "metadata": {},
     "output_type": "execute_result"
    }
   ],
   "source": [
    "\"\"\" \n",
    "Qualitative Data\n",
    "Qualitative data is descriptive and categorical. It describes qualities, characteristics, or properties that cannot be measured directly with numbers. This type of data often answers questions like “what,” “how,” or “why,” providing a deeper understanding of the subject rather than numerical analysis.\n",
    "\n",
    "Characteristics:\n",
    "Often non-numerical and descriptive.\n",
    "Captures concepts, ideas, or opinions.\n",
    "Is typically collected through interviews, surveys, and observations.\n",
    "Types of Qualitative Data:\n",
    "Nominal Data: Categorical data without a specific order. Examples: colors (red, green, blue), gender (male, female), or marital status (single, married).\n",
    "Ordinal Data: Categorical data with a defined order but no specific numerical value for the difference between categories. Examples: levels of satisfaction (satisfied, neutral, dissatisfied) or rankings (first, second, third).\n",
    "Examples:\n",
    "Customer feedback on a product, e.g., “easy to use,” “confusing,” “high quality.”\n",
    "Types of animals in a zoo: lions, tigers, bears.\n",
    "Satisfaction level with service: “Very satisfied,” “Satisfied,” “Neutral,” “Dissatisfied.”\n",
    "2. Quantitative Data\n",
    "Quantitative data is numerical and can be measured or counted. This data type is often used for statistical analysis, helping to identify patterns and relationships through numbers.\n",
    "\n",
    "Characteristics:\n",
    "Numeric and measurable.\n",
    "Can be continuous or discrete.\n",
    "Often used to calculate averages, percentages, and other statistics.\n",
    "Types of Quantitative Data:\n",
    "Discrete Data: Counts or whole numbers. Examples: number of students in a class, number of cars in a parking lot.\n",
    "Continuous Data: Measurable but can have an infinite number of values within a range. Examples: height, weight, temperature, or time.\n",
    "Examples:\n",
    "Age of participants in a survey, e.g., 25 years, 30 years, 45 years.\n",
    "Scores on a test, such as 78, 85, or 92.\n",
    "Temperature readings over a week, such as 72°F, 75°F, 68°F.\n",
    "\"\"\"\n",
    "# \n",
    "\"\"\"\n",
    "1. Nominal Scale\n",
    "The nominal scale is the simplest form of measurement and involves categorizing data into distinct groups or classes without any order or ranking. The numbers or labels assigned in a nominal scale have no quantitative meaning; they are simply identifiers.\n",
    "\n",
    "Characteristics:\n",
    "\n",
    "Categories or labels without a specific order.\n",
    "No mathematical operations (e.g., addition or subtraction) are possible.\n",
    "Only countable for frequency analysis.\n",
    "Examples:\n",
    "\n",
    "Gender: Male, Female, Non-binary.\n",
    "Eye Color: Blue, Green, Brown.\n",
    "Types of Cuisine: Italian, Mexican, Chinese.\n",
    "2. Ordinal Scale\n",
    "The ordinal scale arranges data in a specific order or rank but without precise intervals between categories. Although this scale reflects a relative ranking, it does not provide information on the exact differences between the rankings.\n",
    "\n",
    "Characteristics:\n",
    "\n",
    "Categories have a defined order.\n",
    "No meaningful or consistent interval between ranks.\n",
    "Used for ordering or ranking but not for performing arithmetic operations.\n",
    "Examples:\n",
    "\n",
    "Customer Satisfaction: Very Satisfied, Satisfied, Neutral, Dissatisfied.\n",
    "Education Level: High School, Associate’s Degree, Bachelor’s Degree, Master’s Degree.\n",
    "Ranking in a Competition: 1st place, 2nd place, 3rd place.\n",
    "3. Interval Scale\n",
    "The interval scale goes a step further by not only providing order but also ensuring equal intervals between values. However, interval scales lack a true zero point, meaning zero does not represent an absolute absence of the characteristic being measured.\n",
    "\n",
    "Characteristics:\n",
    "\n",
    "Equal intervals between data points.\n",
    "Allows for addition and subtraction but not for ratios.\n",
    "No true zero point; values can be positive or negative.\n",
    "Examples:\n",
    "\n",
    "Temperature in Celsius or Fahrenheit: The difference between 20°C and 30°C is the same as between 30°C and 40°C, but 0°C does not mean \"no temperature.\"\n",
    "IQ Scores: The interval between scores is consistent, but zero does not represent \"no intelligence.\"\n",
    "Calendar Years: The intervals between years are equal, but there is no \"absolute zero year.\"\n",
    "4. Ratio Scale\n",
    "The ratio scale is the most comprehensive scale of measurement, as it includes all the properties of the nominal, ordinal, and interval scales and has a true zero point. This allows for the full range of mathematical operations, including meaningful comparisons of magnitude (ratios).\n",
    "\n",
    "Characteristics:\n",
    "\n",
    "Equal intervals between data points.\n",
    "Has a true zero point, allowing for multiplication and division.\n",
    "Ratios are meaningful (e.g., twice as much, half as much).\n",
    "Examples:\n",
    "\n",
    "Height: A person who is 180 cm tall is twice as tall as someone who is 90 cm.\n",
    "Weight: 0 kg means \"no weight,\" and a weight of 20 kg is twice as heavy as 10 kg.\n",
    "\"\"\""
   ]
  },
  {
   "cell_type": "markdown",
   "id": "86186d74-83ed-44d6-9b61-51131dade60d",
   "metadata": {},
   "source": [
    "## . What are the measures of central tendency, and when should you use each?\n",
    "## Discuss the mean, median,\n",
    "and mode with examples and situations where each is appropriate."
   ]
  },
  {
   "cell_type": "code",
   "execution_count": 3,
   "id": "e91a4f16-4f2c-4b2d-95bb-781df5b4845c",
   "metadata": {},
   "outputs": [
    {
     "data": {
      "text/plain": [
       "'\\n Mean (Average)\\nThe mean is calculated by summing all values in a data set and dividing by the number of values. It provides a balanced point where the data values “center” around, making it suitable for numerical, continuous data.\\n\\nWhen to Use:\\n\\nFor interval or ratio data (continuous data with meaningful numerical differences).\\nWhen the data is symmetrically distributed (normal distribution) without extreme outliers.\\nIdeal for data that reflects quantities or measurements (e.g., heights, weights, ages).\\nExamples:\\n\\nAverage income: If incomes in a sample are $40,000, $50,000, $60,000, and $70,000, the mean income is $55,000.\\nAverage test score: If scores are 80, 85, 90, and 95, the mean score is 87.5.\\nLimitations:\\n\\nSensitive to outliers: A few extremely high or low values can skew the mean, making it less representative of the data set as a whole. For example, a single billionaire in a sample can greatly inflate the average income in a group.\\n2. Median\\nThe median is the middle value in a sorted data set. If there is an even number of values, the median is the average of the two middle numbers. The median is useful because it is less affected by outliers and skewed distributions.\\n\\nWhen to Use:\\n\\nFor ordinal, interval, or ratio data where values can be ordered.\\nWhen the data is skewed or has outliers, as the median provides a central value that’s not influenced by extreme values.\\nSuitable for data that reflects ranks or ordered categories, or in cases with uneven distributions.\\nExamples:\\n\\nMedian income: In a sample with incomes of $30,000, $40,000, $100,000, $200,000, and $500,000, the median income is $100,000, providing a more representative central value than the mean, which would be skewed higher by the large values.\\nMedian house prices: If house prices are $150,000, $200,000, $250,000, $300,000, and $1,000,000, the median price is $250,000, representing the central price more accurately than the mean, which would be influenced by the $1,000,000 outlier.\\nLimitations:\\n\\nDoesn’t use all data points: Unlike the mean, the median only considers the order of values, not their specific quantities, so it may miss nuances in data distribution.\\n3. Mode\\nThe mode is the most frequently occurring value(s) in a data set. It is particularly useful for data with a high frequency of repeated values, or for categorical data where there is no numerical order or average.\\n\\nWhen to Use:\\n\\nFor nominal data (e.g., categories like colors, types, or preferences) as the only measure of central tendency that can represent this type.\\nFor ordinal, interval, or ratio data where knowing the most common value is beneficial.\\nUseful for identifying popularity, preference, or typicality in categorical or grouped data.\\nExamples:\\n\\nMost common pet type: If survey responses show that “dog” is the most chosen pet among “dog,” “cat,” and “fish,” then “dog” is the mode.\\nMost frequent test score: If a class’s test scores are 85, 85, 90, 92, and 92, both 85 and 92 are modes, showing that two scores occurred most frequently.\\nMode in product sales: If a store sells small, medium, large, and extra-large shirts, and medium is the most purchased size, “medium” is the mode.\\nLimitations:\\n\\nMay not be unique: A data set can be bimodal or multimodal (more than one mode), which may complicate analysis.\\nNot useful for continuous data: In data with many unique values, like precise measurements, the mode may not be meaningful or may not exist at all.\\n'"
      ]
     },
     "execution_count": 3,
     "metadata": {},
     "output_type": "execute_result"
    }
   ],
   "source": [
    "# central tendency tries to find out one data that is represent the whole data .central tendency represent the central point of a data set using \n",
    "#->MEAN \n",
    "#->MEDIAN \n",
    "#->MODE\n",
    "# \n",
    "\"\"\"\n",
    " Mean (Average)\n",
    "The mean is calculated by summing all values in a data set and dividing by the number of values. It provides a balanced point where the data values “center” around, making it suitable for numerical, continuous data.\n",
    "\n",
    "When to Use:\n",
    "\n",
    "For interval or ratio data (continuous data with meaningful numerical differences).\n",
    "When the data is symmetrically distributed (normal distribution) without extreme outliers.\n",
    "Ideal for data that reflects quantities or measurements (e.g., heights, weights, ages).\n",
    "Examples:\n",
    "\n",
    "Average income: If incomes in a sample are $40,000, $50,000, $60,000, and $70,000, the mean income is $55,000.\n",
    "Average test score: If scores are 80, 85, 90, and 95, the mean score is 87.5.\n",
    "Limitations:\n",
    "\n",
    "Sensitive to outliers: A few extremely high or low values can skew the mean, making it less representative of the data set as a whole. For example, a single billionaire in a sample can greatly inflate the average income in a group.\n",
    "2. Median\n",
    "The median is the middle value in a sorted data set. If there is an even number of values, the median is the average of the two middle numbers. The median is useful because it is less affected by outliers and skewed distributions.\n",
    "\n",
    "When to Use:\n",
    "\n",
    "For ordinal, interval, or ratio data where values can be ordered.\n",
    "When the data is skewed or has outliers, as the median provides a central value that’s not influenced by extreme values.\n",
    "Suitable for data that reflects ranks or ordered categories, or in cases with uneven distributions.\n",
    "Examples:\n",
    "\n",
    "Median income: In a sample with incomes of $30,000, $40,000, $100,000, $200,000, and $500,000, the median income is $100,000, providing a more representative central value than the mean, which would be skewed higher by the large values.\n",
    "Median house prices: If house prices are $150,000, $200,000, $250,000, $300,000, and $1,000,000, the median price is $250,000, representing the central price more accurately than the mean, which would be influenced by the $1,000,000 outlier.\n",
    "Limitations:\n",
    "\n",
    "Doesn’t use all data points: Unlike the mean, the median only considers the order of values, not their specific quantities, so it may miss nuances in data distribution.\n",
    "3. Mode\n",
    "The mode is the most frequently occurring value(s) in a data set. It is particularly useful for data with a high frequency of repeated values, or for categorical data where there is no numerical order or average.\n",
    "\n",
    "When to Use:\n",
    "\n",
    "For nominal data (e.g., categories like colors, types, or preferences) as the only measure of central tendency that can represent this type.\n",
    "For ordinal, interval, or ratio data where knowing the most common value is beneficial.\n",
    "Useful for identifying popularity, preference, or typicality in categorical or grouped data.\n",
    "Examples:\n",
    "\n",
    "Most common pet type: If survey responses show that “dog” is the most chosen pet among “dog,” “cat,” and “fish,” then “dog” is the mode.\n",
    "Most frequent test score: If a class’s test scores are 85, 85, 90, 92, and 92, both 85 and 92 are modes, showing that two scores occurred most frequently.\n",
    "Mode in product sales: If a store sells small, medium, large, and extra-large shirts, and medium is the most purchased size, “medium” is the mode.\n",
    "Limitations:\n",
    "\n",
    "May not be unique: A data set can be bimodal or multimodal (more than one mode), which may complicate analysis.\n",
    "Not useful for continuous data: In data with many unique values, like precise measurements, the mode may not be meaningful or may not exist at all.\n",
    "\"\"\""
   ]
  },
  {
   "cell_type": "markdown",
   "id": "a6a4d7f8-152c-48eb-ad5c-0cfa4dedaa05",
   "metadata": {},
   "source": [
    "## 3. Explain the concept of dispersion. How do variance and standard deviation measure the spread of data?"
   ]
  },
  {
   "cell_type": "code",
   "execution_count": 8,
   "id": "75d9fd76-40c5-4e28-996a-9f75240efce9",
   "metadata": {},
   "outputs": [
    {
     "data": {
      "text/plain": [
       "'\\nDispersion is a statistical concept that describes the spread or variability of data points within a data set. Measures of dispersion help us understand how much the data values differ from each other and from the central tendency (such as the mean). The higher the dispersion, the more spread out the data points are. Lower dispersion indicates that the data points are closer to the central value.\\n\\nTwo common measures of dispersion are variance and standard deviation. These metrics provide insights into how spread out the data values are around the mean.\\n\\nVariance:\\nVariance measures the average squared deviation of each data point from the mean. It is calculated by finding the difference between each data point and the mean, squaring these differences to make them positive, and then taking the average of the squared differences.\\n\\nFormula (for a sample):\\nVariance= summation of (xi-x bar )square /N\\nxi= each individual value,\\n𝑥bar= = the mean of the data set,\\nN = the number of data points.\\n\\nStandard deviation:is the square root of variance. By taking the square root, standard deviation returns to the original units of the data, making it easier to interpret compared to variance. Standard deviation measures the typical distance of data points from the mean.\\n\\nFormula (for a sample):\\n\\nStandard\\xa0Deviation=square root of (variance)\\n'"
      ]
     },
     "execution_count": 8,
     "metadata": {},
     "output_type": "execute_result"
    }
   ],
   "source": [
    "\n",
    "\"\"\"\n",
    "Dispersion is a statistical concept that describes the spread or variability of data points within a data set. Measures of dispersion help us understand how much the data values differ from each other and from the central tendency (such as the mean). The higher the dispersion, the more spread out the data points are. Lower dispersion indicates that the data points are closer to the central value.\n",
    "\n",
    "Two common measures of dispersion are variance and standard deviation. These metrics provide insights into how spread out the data values are around the mean.\n",
    "\n",
    "Variance:\n",
    "Variance measures the average squared deviation of each data point from the mean. It is calculated by finding the difference between each data point and the mean, squaring these differences to make them positive, and then taking the average of the squared differences.\n",
    "\n",
    "Formula (for a sample):\n",
    "Variance= summation of (xi-x bar )square /N\n",
    "xi= each individual value,\n",
    "𝑥bar= = the mean of the data set,\n",
    "N = the number of data points.\n",
    "\n",
    "Standard deviation:is the square root of variance. By taking the square root, standard deviation returns to the original units of the data, making it easier to interpret compared to variance. Standard deviation measures the typical distance of data points from the mean.\n",
    "\n",
    "Formula (for a sample):\n",
    "\n",
    "Standard Deviation=square root of (variance)\n",
    "\"\"\""
   ]
  },
  {
   "cell_type": "markdown",
   "id": "9cee9333-ca68-42c6-9bc2-8d2234cfcd89",
   "metadata": {},
   "source": [
    "## What is a box plot, and what can it tell you about the distribution of data?"
   ]
  },
  {
   "cell_type": "code",
   "execution_count": 9,
   "id": "ce2f5087-0850-4e75-bd9d-5b35fdad5ea4",
   "metadata": {},
   "outputs": [
    {
     "data": {
      "text/plain": [
       "'\\n# \\nA box plot (or box-and-whisker plot) is a graphical tool used to display the distribution, central tendency, and spread of a data set. It summarizes\\nthe data by showing the minimum, first quartile (Q1), median (Q2), third quartile (Q3), and maximum values, allowing for a quick overview of the data’s \\nrange, central tendency, and variability. Additionally, box plots can help identify outliers and understand skewness in the data.\\n\\n\\n # What a Box Plot Tells You About Data Distribution\\nCenter and Spread of Data:\\n\\nThe median line inside the box shows the center of the data.\\nThe length of the box (IQR) shows the spread of the middle 50% of the data.\\nThe whiskers indicate the range of most of the data, providing insight into the overall spread.\\nSkewness:\\n\\nIf the median line is closer to the bottom or top of the box, the data is likely skewed.\\nLeft (negative) skew: The median is closer to Q3, and the left whisker is longer.\\nRight (positive) skew: The median is closer to Q1, and the right whisker is longer.\\nOutliers:\\n\\nPoints outside the whiskers represent outliers and indicate unusual values.\\nOutliers might warrant further investigation, as they can impact analyses.\\nSymmetry and Shape:\\n\\nIf the box is centered with whiskers of similar lengths on both sides, the data is likely symmetrical.\\nAsymmetry in the box or whiskers indicates that the data may not follow a normal distribution.\\n'"
      ]
     },
     "execution_count": 9,
     "metadata": {},
     "output_type": "execute_result"
    }
   ],
   "source": [
    "\"\"\"\n",
    "# \n",
    "A box plot (or box-and-whisker plot) is a graphical tool used to display the distribution, central tendency, and spread of a data set. It summarizes\n",
    "the data by showing the minimum, first quartile (Q1), median (Q2), third quartile (Q3), and maximum values, allowing for a quick overview of the data’s \n",
    "range, central tendency, and variability. Additionally, box plots can help identify outliers and understand skewness in the data.\n",
    "\n",
    "\n",
    " # What a Box Plot Tells You About Data Distribution\n",
    "Center and Spread of Data:\n",
    "\n",
    "The median line inside the box shows the center of the data.\n",
    "The length of the box (IQR) shows the spread of the middle 50% of the data.\n",
    "The whiskers indicate the range of most of the data, providing insight into the overall spread.\n",
    "Skewness:\n",
    "\n",
    "If the median line is closer to the bottom or top of the box, the data is likely skewed.\n",
    "Left (negative) skew: The median is closer to Q3, and the left whisker is longer.\n",
    "Right (positive) skew: The median is closer to Q1, and the right whisker is longer.\n",
    "Outliers:\n",
    "\n",
    "Points outside the whiskers represent outliers and indicate unusual values.\n",
    "Outliers might warrant further investigation, as they can impact analyses.\n",
    "Symmetry and Shape:\n",
    "\n",
    "If the box is centered with whiskers of similar lengths on both sides, the data is likely symmetrical.\n",
    "Asymmetry in the box or whiskers indicates that the data may not follow a normal distribution.\n",
    "\"\"\""
   ]
  },
  {
   "cell_type": "markdown",
   "id": "7037ddd8-6fbe-409f-8f15-a59b5bdafc71",
   "metadata": {},
   "source": [
    "## Discuss the role of random sampling in making inferences about populations."
   ]
  },
  {
   "cell_type": "code",
   "execution_count": 10,
   "id": "a13120a6-11ed-43fd-b615-4698d51eac1d",
   "metadata": {},
   "outputs": [],
   "source": [
    "# every member of the population has an equal chance of being selected in the sample.\n",
    "\n",
    "# Key Roles of Random Sampling :\n",
    "#Representativeness:\n",
    "#Reducing Bias:\n",
    "#Enabling Statistical Inference:\n",
    "# Facilitating Generalization:\n"
   ]
  },
  {
   "cell_type": "markdown",
   "id": "8bcbac80-85be-4563-b2b9-5cc02a4cfdeb",
   "metadata": {},
   "source": [
    "##  Explain the concept of skewness and its types. How does skewness affect the interpretation of data?\r\n",
    "\r"
   ]
  },
  {
   "cell_type": "code",
   "execution_count": 11,
   "id": "65c9120f-0e25-4089-bd62-0fcd28b743ba",
   "metadata": {},
   "outputs": [
    {
     "data": {
      "text/plain": [
       "'\\nHow Skewness Affects Data Interpretation\\nCentral Tendency:\\n\\nSkewness impacts the mean, which is pulled toward the direction of the skew (right in positive skew, left in negative skew).\\nMedian is less affected by skewness, as it only depends on the order of values, not their magnitude. Thus, the median often better represents the central tendency in skewed distributions.\\nMode remains at the peak of the data and is unaffected by outliers, providing a quick visual cue for where most data lies in skewed distributions.\\nStatistical Analysis:\\n\\nMany statistical tests, like t-tests and ANOVA, assume normally distributed (symmetrical) data. Skewness can violate this assumption, potentially leading to inaccurate results.\\nIn highly skewed data, non-parametric tests, which do not assume normality, are often more appropriate.\\nInterpretation of Data Spread and Variability:\\n\\nRight skewed data suggests the presence of a few high values or outliers, indicating variability that can inflate measures like the range and standard deviation.\\nIn left skewed data, a few low values similarly increase variability metrics.\\n'"
      ]
     },
     "execution_count": 11,
     "metadata": {},
     "output_type": "execute_result"
    }
   ],
   "source": [
    "\"\"\"\n",
    "Skewness is a measure of the asymmetry in the distribution of data values around the mean. It helps indicate whether a data set is symmetrical or whether values are more concentrated on one side of the mean. Skewness can impact the interpretation of data by influencing measures of central tendency (mean, median, mode) and affecting statistical analyses that assume normality.\n",
    "\n",
    "Types of Skewness\n",
    "Symmetrical Distribution (Zero Skewness)\n",
    "\n",
    "In a symmetrical distribution, data is evenly distributed around the mean, with both sides mirroring each other. The mean, median, and mode are approximately the same.\n",
    "Example: A perfect normal distribution (bell curve) is symmetrical and has zero skewness.\n",
    "Positive Skewness (Right-Skewed)\n",
    "\n",
    "In a positively skewed distribution, most data points are concentrated on the left side, with the tail extending to the right.\n",
    "The mean is greater than the median, as high values pull it toward the right tail.\n",
    "Example: Income distributions are often right-skewed, as a majority of people earn around an average amount, but a few people with very high incomes pull the mean to the right.\n",
    "Negative Skewness (Left-Skewed)\n",
    "\n",
    "In a negatively skewed distribution, most data points are concentrated on the right side, with the tail extending to the left.\n",
    "The mean is less than the median, as low values pull it toward the left tail.\n",
    "Example: Scores on an easy test may be left-skewed, as most students score high, but a few low scores pull the mean to the left.\n",
    "\"\"\"\n",
    "#\n",
    "\"\"\"\n",
    "How Skewness Affects Data Interpretation\n",
    "Central Tendency:\n",
    "\n",
    "Skewness impacts the mean, which is pulled toward the direction of the skew (right in positive skew, left in negative skew).\n",
    "Median is less affected by skewness, as it only depends on the order of values, not their magnitude. Thus, the median often better represents the central tendency in skewed distributions.\n",
    "Mode remains at the peak of the data and is unaffected by outliers, providing a quick visual cue for where most data lies in skewed distributions.\n",
    "Statistical Analysis:\n",
    "\n",
    "Many statistical tests, like t-tests and ANOVA, assume normally distributed (symmetrical) data. Skewness can violate this assumption, potentially leading to inaccurate results.\n",
    "In highly skewed data, non-parametric tests, which do not assume normality, are often more appropriate.\n",
    "Interpretation of Data Spread and Variability:\n",
    "\n",
    "Right skewed data suggests the presence of a few high values or outliers, indicating variability that can inflate measures like the range and standard deviation.\n",
    "In left skewed data, a few low values similarly increase variability metrics.\n",
    "\"\"\""
   ]
  },
  {
   "cell_type": "markdown",
   "id": "41b3af71-41e8-423a-8af4-a543466740a9",
   "metadata": {},
   "source": [
    "##  What is the interquartile range (IQR), and how is it used to detect outliers?"
   ]
  },
  {
   "cell_type": "code",
   "execution_count": 12,
   "id": "9f7e1aeb-eaaa-4c0e-8af1-3582bac342ce",
   "metadata": {},
   "outputs": [
    {
     "data": {
      "text/plain": [
       "'\\nThe interquartile range (IQR) is a measure of statistical dispersion that describes the range of the middle 50% of a data set.\\nIt is calculated as the difference between the third quartile (Q3) and the first quartile (Q1), which represent the 75th and 25th percentiles,\\nrespectively.\\nIQR=Q3-Q1\\n'"
      ]
     },
     "execution_count": 12,
     "metadata": {},
     "output_type": "execute_result"
    }
   ],
   "source": [
    "\"\"\"\n",
    "The interquartile range (IQR) is a measure of statistical dispersion that describes the range of the middle 50% of a data set.\n",
    "It is calculated as the difference between the third quartile (Q3) and the first quartile (Q1), which represent the 75th and 25th percentiles,\n",
    "respectively.\n",
    "IQR=Q3-Q1\n",
    "\"\"\"\n",
    "# OUTLIER :\n",
    "# UPPER FENCE:Q3+1.5*IQR\n",
    "# LOWER FENCE: Q1-1.5*IQR"
   ]
  },
  {
   "cell_type": "markdown",
   "id": "6d35abb9-9382-4e59-9280-ed1371482ff2",
   "metadata": {},
   "source": [
    "##  Discuss the conditions under which the binomial distribution is used.\r\n",
    "\r\n",
    "\r"
   ]
  },
  {
   "cell_type": "code",
   "execution_count": 13,
   "id": "b3c332c6-b292-4c2f-bf0a-13cd81fdae81",
   "metadata": {},
   "outputs": [
    {
     "data": {
      "text/plain": [
       "'\\nConditions for Using the Binomial Distribution\\nFor a distribution to be considered binomial, the following four conditions must be met:\\n\\nFixed Number of Trials (n)\\n\\nThere is a set, predetermined number of trials \\n𝑛\\nn.\\nEach trial is a separate occurrence or observation, such as flipping a coin a certain number of times or conducting a fixed number of surveys.\\nTwo Possible Outcomes (Success/Failure)\\n\\nEach trial results in one of two possible outcomes: often labeled as \"success\" or \"failure.\"\\nFor example, in a coin toss, the outcomes are heads (success) or tails (failure); in a survey, it might be \"yes\" or \"no.\"\\nConstant Probability of Success (p)\\n\\nThe probability of success \\n𝑝\\np remains the same for each trial.\\nFor example, if you are flipping a fair coin, the probability of heads (success) remains 0.5 for each flip.\\nIndependent Trials\\n\\nEach trial is independent of the others, meaning the outcome of one trial does not affect the outcome of another.\\nThis ensures that the probability of success remains constant for every trial.\\n'"
      ]
     },
     "execution_count": 13,
     "metadata": {},
     "output_type": "execute_result"
    }
   ],
   "source": [
    "\"\"\"\n",
    "Conditions for Using the Binomial Distribution\n",
    "For a distribution to be considered binomial, the following four conditions must be met:\n",
    "\n",
    "Fixed Number of Trials (n)\n",
    "\n",
    "There is a set, predetermined number of trials \n",
    "𝑛\n",
    "n.\n",
    "Each trial is a separate occurrence or observation, such as flipping a coin a certain number of times or conducting a fixed number of surveys.\n",
    "Two Possible Outcomes (Success/Failure)\n",
    "\n",
    "Each trial results in one of two possible outcomes: often labeled as \"success\" or \"failure.\"\n",
    "For example, in a coin toss, the outcomes are heads (success) or tails (failure); in a survey, it might be \"yes\" or \"no.\"\n",
    "Constant Probability of Success (p)\n",
    "\n",
    "The probability of success \n",
    "𝑝\n",
    "p remains the same for each trial.\n",
    "For example, if you are flipping a fair coin, the probability of heads (success) remains 0.5 for each flip.\n",
    "Independent Trials\n",
    "\n",
    "Each trial is independent of the others, meaning the outcome of one trial does not affect the outcome of another.\n",
    "This ensures that the probability of success remains constant for every trial.\n",
    "\"\"\""
   ]
  },
  {
   "cell_type": "markdown",
   "id": "2b90ef39-768d-481e-8893-5aacec67e502",
   "metadata": {},
   "source": [
    "## Explain the properties of the normal distribution and the empirical rule (68-95-99.7 rule)."
   ]
  },
  {
   "cell_type": "code",
   "execution_count": 14,
   "id": "6a9850f5-f4a3-4a7b-8be8-015fb79ac89c",
   "metadata": {},
   "outputs": [
    {
     "data": {
      "text/plain": [
       "'\\nThe normal distribution is one of the most commonly used probability distributions in statistics. It is often called the Gaussian distribution, and it is widely used to model continuous data that clusters around a central value.\\n\\nProperties of the Normal Distribution\\nSymmetry:\\n\\nThe normal distribution is symmetric around its mean. This means that the left and right sides of the distribution are mirror images of each other.\\nThe mean, median, and mode of a normal distribution are all located at the center and have the same value.\\nBell-Shaped Curve:\\n\\nThe graph of the normal distribution is a bell-shaped curve. It has a single peak at the mean, and the tails of the curve extend infinitely in both directions but approach the horizontal axis asymptotically, meaning they never actually touch the axis.\\nDefined by Two Parameters:\\n\\nThe normal distribution is completely described by two parameters:\\nMean (𝜇): The central value around which the data is centered.\\nStandard Deviation (σ): Measures the spread or dispersion of the data. A larger standard deviation results in a wider, flatter curve, while a smaller standard deviation results in a narrower, taller curve.\\nAsymptotic:\\n\\nThe tails of the normal distribution approach, but never touch, the horizontal axis. This indicates that extreme values (far from the mean) are theoretically possible, though they become increasingly rare as you move farther from the mean.\\nArea under the Curve:\\n\\nThe total area under the normal curve is 1 (or 100%), representing the total probability. The area under the curve within any interval represents the probability of the data falling within that range.\\nThe Empirical Rule (68-95-99.7 Rule)\\nThe empirical rule is a shorthand way to describe the spread of data in a normal distribution. It states that for a normal distribution:\\n\\n68% of the data falls within one standard deviation (μ±σ) of the mean.\\n95% of the data falls within two standard deviations (μ±2σ) of the mean.\\n99.7% of the data falls within three standard deviations (μ±3σ) of the mean.\\nExplanation of the Rule:\\n68% within 1 standard deviation: About 68% of the values in a normal distribution will lie between the mean minus one standard deviation and the mean plus one standard deviation.\\n\\nThis means if you take a data set that follows a normal distribution, roughly 68% of the data will be in this range.\\n95% within 2 standard deviations: About 95% of the values will fall between the mean minus two standard deviations and the mean plus two standard deviations.\\n\\n99.7% within 3 standard deviations: About 99.7% of the values will fall between the mean minus three standard deviations and the mean plus three standard deviations.\\n\\nThis rule provides a quick way to understand how data is distributed in a normal distribution and is especially useful in areas like quality control, hypothesis testing, and risk management.\\n\\nExample of the Empirical Rule\\nConsider a normal distribution with a mean score of 100 and a standard deviation of 15 (e.g., SAT scores).\\n\\n68% of scores fall between:100−15=85and100+15=115\\nSo, 68% of the students score between 85 and 115.\\n\\n95% of scores fall between:\\n100−2(15)=70and100+2(15)=130\\nSo, 95% of the students score between 70 and 130.\\n\\n99.7% of scores fall between:\\n100−3(15)=55and100+3(15)=145\\nSo, 99.7% of the students score between 55 and 145.\\n'"
      ]
     },
     "execution_count": 14,
     "metadata": {},
     "output_type": "execute_result"
    }
   ],
   "source": [
    "\"\"\"\n",
    "The normal distribution is one of the most commonly used probability distributions in statistics. It is often called the Gaussian distribution, and it is widely used to model continuous data that clusters around a central value.\n",
    "\n",
    "Properties of the Normal Distribution\n",
    "Symmetry:\n",
    "\n",
    "The normal distribution is symmetric around its mean. This means that the left and right sides of the distribution are mirror images of each other.\n",
    "The mean, median, and mode of a normal distribution are all located at the center and have the same value.\n",
    "Bell-Shaped Curve:\n",
    "\n",
    "The graph of the normal distribution is a bell-shaped curve. It has a single peak at the mean, and the tails of the curve extend infinitely in both directions but approach the horizontal axis asymptotically, meaning they never actually touch the axis.\n",
    "Defined by Two Parameters:\n",
    "\n",
    "The normal distribution is completely described by two parameters:\n",
    "Mean (𝜇): The central value around which the data is centered.\n",
    "Standard Deviation (σ): Measures the spread or dispersion of the data. A larger standard deviation results in a wider, flatter curve, while a smaller standard deviation results in a narrower, taller curve.\n",
    "Asymptotic:\n",
    "\n",
    "The tails of the normal distribution approach, but never touch, the horizontal axis. This indicates that extreme values (far from the mean) are theoretically possible, though they become increasingly rare as you move farther from the mean.\n",
    "Area under the Curve:\n",
    "\n",
    "The total area under the normal curve is 1 (or 100%), representing the total probability. The area under the curve within any interval represents the probability of the data falling within that range.\n",
    "The Empirical Rule (68-95-99.7 Rule)\n",
    "The empirical rule is a shorthand way to describe the spread of data in a normal distribution. It states that for a normal distribution:\n",
    "\n",
    "68% of the data falls within one standard deviation (μ±σ) of the mean.\n",
    "95% of the data falls within two standard deviations (μ±2σ) of the mean.\n",
    "99.7% of the data falls within three standard deviations (μ±3σ) of the mean.\n",
    "Explanation of the Rule:\n",
    "68% within 1 standard deviation: About 68% of the values in a normal distribution will lie between the mean minus one standard deviation and the mean plus one standard deviation.\n",
    "\n",
    "This means if you take a data set that follows a normal distribution, roughly 68% of the data will be in this range.\n",
    "95% within 2 standard deviations: About 95% of the values will fall between the mean minus two standard deviations and the mean plus two standard deviations.\n",
    "\n",
    "99.7% within 3 standard deviations: About 99.7% of the values will fall between the mean minus three standard deviations and the mean plus three standard deviations.\n",
    "\n",
    "This rule provides a quick way to understand how data is distributed in a normal distribution and is especially useful in areas like quality control, hypothesis testing, and risk management.\n",
    "\n",
    "Example of the Empirical Rule\n",
    "Consider a normal distribution with a mean score of 100 and a standard deviation of 15 (e.g., SAT scores).\n",
    "\n",
    "68% of scores fall between:100−15=85and100+15=115\n",
    "So, 68% of the students score between 85 and 115.\n",
    "\n",
    "95% of scores fall between:\n",
    "100−2(15)=70and100+2(15)=130\n",
    "So, 95% of the students score between 70 and 130.\n",
    "\n",
    "99.7% of scores fall between:\n",
    "100−3(15)=55and100+3(15)=145\n",
    "So, 99.7% of the students score between 55 and 145.\n",
    "\"\"\""
   ]
  },
  {
   "cell_type": "markdown",
   "id": "ea3d1a23-d01d-42c9-a47f-ced9d15178d3",
   "metadata": {},
   "source": [
    "##  Provide a real-life example of a Poisson process and calculate the probability for a specific event."
   ]
  },
  {
   "cell_type": "code",
   "execution_count": 15,
   "id": "bbc0e680-9e1c-4b6d-ac02-8c6045c80203",
   "metadata": {},
   "outputs": [
    {
     "data": {
      "text/plain": [
       "'\\nA Poisson process is used to model events that happen randomly and independently over a continuous interval, such as time, area, or volume. It is especially useful for events that occur at a constant average rate but in a random and unpredictable manner.\\n\\nReal-Life Example: Customer Arrivals at a Bank\\nSuppose a bank observes that customers arrive at a rate of 5 customers per hour on average. This is a typical Poisson process scenario because:\\n\\nArrivals are random and independent of each other.\\nThe average rate of arrivals (5 customers per hour) is constant.\\nLet’s use the Poisson distribution to calculate the probability of a specific event: finding exactly 8 customers arriving in one hour.\\n\\nGiven Values\\n𝑘=8\\nλ=5\\n\\nUsing the formula:\\nP(X=8)= 5^8 * e^-5/8!\\nBreaking down the calculation:\\n\\nCalculate :5^8 \\n 5^8 =390625\\nCalculate :e^-5\\ne^-5 ≈0.00674\\nCalculate :8!\\n\\n8!=40320\\nPlug values into the formula:\\n\\nP(X=8)= 390625×0.00674/40320\\n\\u200b\\n \\nCompute the probability:\\nP(X=8)≈0.065\\n'"
      ]
     },
     "execution_count": 15,
     "metadata": {},
     "output_type": "execute_result"
    }
   ],
   "source": [
    "\"\"\"\n",
    "A Poisson process is used to model events that happen randomly and independently over a continuous interval, such as time, area, or volume. It is especially useful for events that occur at a constant average rate but in a random and unpredictable manner.\n",
    "\n",
    "Real-Life Example: Customer Arrivals at a Bank\n",
    "Suppose a bank observes that customers arrive at a rate of 5 customers per hour on average. This is a typical Poisson process scenario because:\n",
    "\n",
    "Arrivals are random and independent of each other.\n",
    "The average rate of arrivals (5 customers per hour) is constant.\n",
    "Let’s use the Poisson distribution to calculate the probability of a specific event: finding exactly 8 customers arriving in one hour.\n",
    "\n",
    "Given Values\n",
    "𝑘=8\n",
    "λ=5\n",
    "\n",
    "Using the formula:\n",
    "P(X=8)= 5^8 * e^-5/8!\n",
    "Breaking down the calculation:\n",
    "\n",
    "Calculate :5^8 \n",
    " 5^8 =390625\n",
    "Calculate :e^-5\n",
    "e^-5 ≈0.00674\n",
    "Calculate :8!\n",
    "\n",
    "8!=40320\n",
    "Plug values into the formula:\n",
    "\n",
    "P(X=8)= 390625×0.00674/40320\n",
    "​\n",
    " \n",
    "Compute the probability:\n",
    "P(X=8)≈0.065\n",
    "\"\"\""
   ]
  },
  {
   "cell_type": "markdown",
   "id": "562b025d-2c29-4320-a28e-6ce12c95a1ac",
   "metadata": {},
   "source": [
    "## Explain what a random variable is and differentiate between discrete and continuous random variables."
   ]
  },
  {
   "cell_type": "code",
   "execution_count": 16,
   "id": "8957a452-ea0f-4f28-8520-6030d5e0ea37",
   "metadata": {},
   "outputs": [
    {
     "data": {
      "text/plain": [
       "'\\nTypes of Random Variables\\nRandom variables are classified into two main types based on the nature of their possible values:\\n#  Discrete Random Variables\\n#  Continuous Random Variables\\n1. Discrete Random Variables\\nA discrete random variable can take on a finite or countable number of possible values. Each of these values can be listed individually,\\nand there is usually some gap between the values.\\n# ex:\\nExamples of Discrete Random Variables\\nNumber of Heads in 10 coin flips: The possible values are 0, 1, 2, ..., 10.\\nNumber of Students in a Class: Possible values are 0, 1, 2, 3, etc., up to the maximum capacity.\\n\\nContinuous Random Variables\\nA continuous random variable can take on an infinite number of possible values within a given range. These values are not countable because they \\ninclude every possible value in an interval, including decimals and fractions.\\n# ex:\\nExamples of Continuous Random Variables\\nHeight of a Person: Can take any value within a range (e.g., 150 cm to 200 cm).\\nTemperature in a Day: Could be any value within a possible range, such as 20.5°C, 20.55°C, etc.\\n'"
      ]
     },
     "execution_count": 16,
     "metadata": {},
     "output_type": "execute_result"
    }
   ],
   "source": [
    "# a set of possible value from an random experiment is called random variable \n",
    "# ex: Tossing a coin ,outcome may be head and tail if let head=1 and tail=0\n",
    "# x={1,0} here x is random variable \n",
    "\"\"\"\n",
    "Types of Random Variables\n",
    "Random variables are classified into two main types based on the nature of their possible values:\n",
    "#  Discrete Random Variables\n",
    "#  Continuous Random Variables\n",
    "1. Discrete Random Variables\n",
    "A discrete random variable can take on a finite or countable number of possible values. Each of these values can be listed individually,\n",
    "and there is usually some gap between the values.\n",
    "# ex:\n",
    "Examples of Discrete Random Variables\n",
    "Number of Heads in 10 coin flips: The possible values are 0, 1, 2, ..., 10.\n",
    "Number of Students in a Class: Possible values are 0, 1, 2, 3, etc., up to the maximum capacity.\n",
    "\n",
    "Continuous Random Variables\n",
    "A continuous random variable can take on an infinite number of possible values within a given range. These values are not countable because they \n",
    "include every possible value in an interval, including decimals and fractions.\n",
    "# ex:\n",
    "Examples of Continuous Random Variables\n",
    "Height of a Person: Can take any value within a range (e.g., 150 cm to 200 cm).\n",
    "Temperature in a Day: Could be any value within a possible range, such as 20.5°C, 20.55°C, etc.\n",
    "\"\"\"\n"
   ]
  },
  {
   "cell_type": "markdown",
   "id": "99fd0451-6f6d-4047-a818-5867471e9bf9",
   "metadata": {},
   "source": [
    "## Provide an example dataset, calculate both covariance and correlation, and interpret the results."
   ]
  },
  {
   "cell_type": "code",
   "execution_count": 17,
   "id": "f40e91cf-3207-4859-9721-3e700ac7fef4",
   "metadata": {},
   "outputs": [
    {
     "data": {
      "text/plain": [
       "'\\nExample Dataset\\nStudent\\tHours Studied (X)\\tTest Score (Y)\\n1\\t        2\\t                       65\\n2\\t        3\\t                       70\\n3\\t        5\\t                       75\\n4\\t        7\\t                       80\\n5\\t        9\\t                       85\\nStep 1: Calculate the Mean of Each Variable\\nmean(x) =5.2\\nmean(y)=75\\nStep 2: Calculate Covariance\\ncovariance is 18\\nnterpretation of Covariance\\nA positive covariance (18 in this case) indicates that there is a positive relationship between hours studied and test scores.\\nThis means that, generally, as the number of hours studied increases, test scores tend to increase as well. \\n\\nHowever, covariance alone doesn’t give us the strength of the relationship;it only tells us the direction.\\n\\nStep 3: Calculate Correlation\\ncorrelation is \\n ≈0.995\\nThe correlation coefficient 𝑟≈0.995 is very close to 1, indicating a strong positive relationship between hours studied and test scores.\\nThis suggests that as hours studied increases, test scores tend to increase as well, with a very strong linear relationship.\\n'"
      ]
     },
     "execution_count": 17,
     "metadata": {},
     "output_type": "execute_result"
    }
   ],
   "source": [
    "\n",
    "\"\"\"\n",
    "Example Dataset\n",
    "Student\tHours Studied (X)\tTest Score (Y)\n",
    "1\t        2\t                       65\n",
    "2\t        3\t                       70\n",
    "3\t        5\t                       75\n",
    "4\t        7\t                       80\n",
    "5\t        9\t                       85\n",
    "Step 1: Calculate the Mean of Each Variable\n",
    "mean(x) =5.2\n",
    "mean(y)=75\n",
    "Step 2: Calculate Covariance\n",
    "covariance is 18\n",
    "nterpretation of Covariance\n",
    "A positive covariance (18 in this case) indicates that there is a positive relationship between hours studied and test scores.\n",
    "This means that, generally, as the number of hours studied increases, test scores tend to increase as well. \n",
    "\n",
    "However, covariance alone doesn’t give us the strength of the relationship;it only tells us the direction.\n",
    "\n",
    "Step 3: Calculate Correlation\n",
    "correlation is \n",
    " ≈0.995\n",
    "The correlation coefficient 𝑟≈0.995 is very close to 1, indicating a strong positive relationship between hours studied and test scores.\n",
    "This suggests that as hours studied increases, test scores tend to increase as well, with a very strong linear relationship.\n",
    "\"\"\"\n"
   ]
  },
  {
   "cell_type": "code",
   "execution_count": null,
   "id": "f32d2a81-824a-4d6c-9777-c29631c073e4",
   "metadata": {},
   "outputs": [],
   "source": []
  }
 ],
 "metadata": {
  "kernelspec": {
   "display_name": "Python 3 (ipykernel)",
   "language": "python",
   "name": "python3"
  },
  "language_info": {
   "codemirror_mode": {
    "name": "ipython",
    "version": 3
   },
   "file_extension": ".py",
   "mimetype": "text/x-python",
   "name": "python",
   "nbconvert_exporter": "python",
   "pygments_lexer": "ipython3",
   "version": "3.11.7"
  }
 },
 "nbformat": 4,
 "nbformat_minor": 5
}
