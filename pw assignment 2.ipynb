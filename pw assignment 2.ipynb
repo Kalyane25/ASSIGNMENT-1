{
 "cells": [
  {
   "cell_type": "markdown",
   "id": "732dad54-a45b-4bd9-93ef-4c9fe152bcf3",
   "metadata": {},
   "source": [
    "# # 1 Discuss string slicing and provide examples ?"
   ]
  },
  {
   "cell_type": "code",
   "execution_count": 2,
   "id": "49b7af24-8bdb-4b9c-91c2-3b7aa4a78426",
   "metadata": {},
   "outputs": [
    {
     "data": {
      "text/plain": [
       "'pwskills'"
      ]
     },
     "execution_count": 2,
     "metadata": {},
     "output_type": "execute_result"
    }
   ],
   "source": [
    "\n",
    "#answer:\n",
    "\"\"\"\n",
    "String slicing in Python allows you to extract a portion of a string by specifying a start and end index\n",
    "syntax:string_name[start_index:end_index]\n",
    "syntax :string_name[star_index:end_index:step that you want to jump]\n",
    "by default syntax:string_name[: :] here bydefault start index is index 0 and end index is last index and step is by default 1.\n",
    "\"\"\"\n",
    "str=\"pwskills\"\n",
    "str[: :]"
   ]
  },
  {
   "cell_type": "code",
   "execution_count": 3,
   "id": "5f1e3f70-fc31-4d22-b604-a0fa9a64624d",
   "metadata": {},
   "outputs": [
    {
     "data": {
      "text/plain": [
       "'lls'"
      ]
     },
     "execution_count": 3,
     "metadata": {},
     "output_type": "execute_result"
    }
   ],
   "source": [
    "# last three index \n",
    "str[-3: :]"
   ]
  },
  {
   "cell_type": "code",
   "execution_count": 4,
   "id": "153322de-2bd2-414a-a6f3-d594aa8cf8d0",
   "metadata": {},
   "outputs": [
    {
     "data": {
      "text/plain": [
       "'sllikswp'"
      ]
     },
     "execution_count": 4,
     "metadata": {},
     "output_type": "execute_result"
    }
   ],
   "source": [
    "# reversr index \n",
    "str[ : :-1]"
   ]
  },
  {
   "cell_type": "code",
   "execution_count": 5,
   "id": "abb1f01d-38d8-46fc-b3c0-605b9fec69a2",
   "metadata": {},
   "outputs": [
    {
     "data": {
      "text/plain": [
       "'wkls'"
      ]
     },
     "execution_count": 5,
     "metadata": {},
     "output_type": "execute_result"
    }
   ],
   "source": [
    "# want to print 2 nd index to last and jump 1 step \n",
    "str[1:9:2]"
   ]
  },
  {
   "cell_type": "code",
   "execution_count": 6,
   "id": "038f1e14-a726-4d6f-8070-c6cf0c246a06",
   "metadata": {},
   "outputs": [
    {
     "data": {
      "text/plain": [
       "'pwskills'"
      ]
     },
     "execution_count": 6,
     "metadata": {},
     "output_type": "execute_result"
    }
   ],
   "source": [
    "# normally print 1st to last \n",
    "str[0:9]"
   ]
  },
  {
   "cell_type": "markdown",
   "id": "336c7c6d-46b2-45f2-8b2a-7cf3a1a86085",
   "metadata": {},
   "source": [
    "# 2. Explain the key features of lists in Python ?"
   ]
  },
  {
   "cell_type": "code",
   "execution_count": 31,
   "id": "4da4193b-9823-4175-84a1-539472291227",
   "metadata": {},
   "outputs": [
    {
     "data": {
      "text/plain": [
       "'ram'"
      ]
     },
     "execution_count": 31,
     "metadata": {},
     "output_type": "execute_result"
    }
   ],
   "source": [
    "# some key features of list \n",
    "\"\"\"\n",
    "1> ordered  thats why indexing allow \n",
    "2> we use append() function \n",
    "3> removing an item of a list \n",
    "4>delete\n",
    "5>clear\n",
    "6>sort\n",
    "7>iterable\n",
    "8>extend\n",
    "9>insert\n",
    "10>deep copy shallow copy \n",
    "11>poping the elements\n",
    "12>list comprehension \n",
    "\"\"\"\n",
    "# ordered  thats why indexing allow\n",
    "l=[1,2,2.2,\"ram\",True]\n",
    "l[3]\n"
   ]
  },
  {
   "cell_type": "code",
   "execution_count": 32,
   "id": "e57f36f1-837c-44a9-bcca-d2802cfba3e8",
   "metadata": {},
   "outputs": [
    {
     "data": {
      "text/plain": [
       "['apple', 'orange', 'banana']"
      ]
     },
     "execution_count": 32,
     "metadata": {},
     "output_type": "execute_result"
    }
   ],
   "source": [
    "# we use append() function\n",
    "list2=[\"apple\",\"orange\"]\n",
    "list2.append(\"banana\")\n",
    "list2"
   ]
  },
  {
   "cell_type": "code",
   "execution_count": 33,
   "id": "8c73cd79-45d9-40e7-aedc-cdf0243ae4d8",
   "metadata": {},
   "outputs": [],
   "source": [
    "# removing an item of a list \n",
    "list2.remove(\"banana\")"
   ]
  },
  {
   "cell_type": "code",
   "execution_count": 34,
   "id": "b1f32f4e-bd56-4327-a966-9c6fd240ff1d",
   "metadata": {},
   "outputs": [
    {
     "data": {
      "text/plain": [
       "['apple', 'orange']"
      ]
     },
     "execution_count": 34,
     "metadata": {},
     "output_type": "execute_result"
    }
   ],
   "source": [
    "list2"
   ]
  },
  {
   "cell_type": "code",
   "execution_count": 35,
   "id": "80a1ba0c-c2d9-412a-a710-521bcee48d86",
   "metadata": {},
   "outputs": [],
   "source": [
    "# clear()\n",
    "list2.clear()"
   ]
  },
  {
   "cell_type": "code",
   "execution_count": 36,
   "id": "ead470c4-3106-4011-b540-ac1f930f8530",
   "metadata": {},
   "outputs": [
    {
     "data": {
      "text/plain": [
       "[]"
      ]
     },
     "execution_count": 36,
     "metadata": {},
     "output_type": "execute_result"
    }
   ],
   "source": [
    "list2"
   ]
  },
  {
   "cell_type": "code",
   "execution_count": 37,
   "id": "4db11594-73c4-4ed6-9d8b-e126c4625486",
   "metadata": {},
   "outputs": [],
   "source": [
    "# delete\n",
    "del list2"
   ]
  },
  {
   "cell_type": "code",
   "execution_count": 38,
   "id": "e4f60374-830e-4a22-bcd5-2842232fd456",
   "metadata": {},
   "outputs": [
    {
     "ename": "NameError",
     "evalue": "name 'list2' is not defined",
     "output_type": "error",
     "traceback": [
      "\u001b[1;31m---------------------------------------------------------------------------\u001b[0m",
      "\u001b[1;31mNameError\u001b[0m                                 Traceback (most recent call last)",
      "Cell \u001b[1;32mIn[38], line 1\u001b[0m\n\u001b[1;32m----> 1\u001b[0m list2\n",
      "\u001b[1;31mNameError\u001b[0m: name 'list2' is not defined"
     ]
    }
   ],
   "source": [
    "list2"
   ]
  },
  {
   "cell_type": "code",
   "execution_count": 39,
   "id": "0f3f8a2d-efad-4566-ab7c-aeb13b1e99eb",
   "metadata": {},
   "outputs": [
    {
     "data": {
      "text/plain": [
       "['apple', 'banana', 'mango', 'orange']"
      ]
     },
     "execution_count": 39,
     "metadata": {},
     "output_type": "execute_result"
    }
   ],
   "source": [
    "# sort\n",
    "l=['apple', 'orange', 'banana','mango']\n",
    "# now use sorting \n",
    "sorted(l)\n"
   ]
  },
  {
   "cell_type": "code",
   "execution_count": 40,
   "id": "389b92c0-db60-4c58-8c23-d73900dac4b5",
   "metadata": {},
   "outputs": [
    {
     "name": "stdout",
     "output_type": "stream",
     "text": [
      "apple\n",
      "orange\n",
      "banana\n",
      "mango\n"
     ]
    }
   ],
   "source": [
    "# iterable\n",
    "for i in l:\n",
    "    print(i)"
   ]
  },
  {
   "cell_type": "code",
   "execution_count": 41,
   "id": "dabdaf66-9d85-48e9-826d-667bda5c98bd",
   "metadata": {},
   "outputs": [
    {
     "data": {
      "text/plain": [
       "['apple', 'orange', 'bamana', 'mango', 'jackfruit']"
      ]
     },
     "execution_count": 41,
     "metadata": {},
     "output_type": "execute_result"
    }
   ],
   "source": [
    "# extend the list\n",
    "my_list=[\"apple\",\"orange\",\"bamana\"]\n",
    "brothers_list=[\"mango\",\"jackfruit\"]\n",
    "my_list.extend(brothers_list) \n",
    "my_list"
   ]
  },
  {
   "cell_type": "code",
   "execution_count": 42,
   "id": "1c4aaa36-b10f-4ab1-b04f-c5766fa4541b",
   "metadata": {},
   "outputs": [
    {
     "data": {
      "text/plain": [
       "['apple', 'orange', 'strawberry', 'bamana', 'mango', 'jackfruit']"
      ]
     },
     "execution_count": 42,
     "metadata": {},
     "output_type": "execute_result"
    }
   ],
   "source": [
    "# insert\n",
    "my_list.insert(2,\"strawberry\")\n",
    "my_list"
   ]
  },
  {
   "cell_type": "code",
   "execution_count": 43,
   "id": "67635661-4a94-4331-9cbf-feb58ddbedbc",
   "metadata": {},
   "outputs": [
    {
     "data": {
      "text/plain": [
       "'jackfruit'"
      ]
     },
     "execution_count": 43,
     "metadata": {},
     "output_type": "execute_result"
    }
   ],
   "source": [
    "# poping \n",
    "my_list.pop() # pop the last index of a list "
   ]
  },
  {
   "cell_type": "code",
   "execution_count": 44,
   "id": "6008af33-2e68-475b-a11e-295bba7d5359",
   "metadata": {},
   "outputs": [
    {
     "data": {
      "text/plain": [
       "['apple', 'orange', 'strawberry', 'bamana', 'mango']"
      ]
     },
     "execution_count": 44,
     "metadata": {},
     "output_type": "execute_result"
    }
   ],
   "source": [
    "my_list"
   ]
  },
  {
   "cell_type": "code",
   "execution_count": 45,
   "id": "eeb90cbd-fa7a-45d9-9242-9c96e375c471",
   "metadata": {},
   "outputs": [
    {
     "data": {
      "text/plain": [
       "[1, 2, 3, 1, 2, 3]"
      ]
     },
     "execution_count": 45,
     "metadata": {},
     "output_type": "execute_result"
    }
   ],
   "source": [
    "# repeating\n",
    "[1,2,3]*2"
   ]
  },
  {
   "cell_type": "code",
   "execution_count": 46,
   "id": "084b2fed-13a5-4da3-91d7-fa9b4e62c1a3",
   "metadata": {},
   "outputs": [
    {
     "data": {
      "text/plain": [
       "['apple', 'orange', 'strawberry', 'bamana', 'mango']"
      ]
     },
     "execution_count": 46,
     "metadata": {},
     "output_type": "execute_result"
    }
   ],
   "source": [
    "# deep copy shallow copy \n",
    "# this is the concept of shallow copy \n",
    "my_list=['apple', 'orange', 'strawberry', 'bamana', 'mango']\n",
    "brothers_list=[\"potato\",\"brinjal\"]\n",
    "brothers_list=my_list\n",
    "brothers_list\n"
   ]
  },
  {
   "cell_type": "code",
   "execution_count": 47,
   "id": "4ebe4bd3-bdd0-4357-965c-0924426916ce",
   "metadata": {},
   "outputs": [
    {
     "data": {
      "text/plain": [
       "['potato', 'orange', 1, 2.2, True, (3+4j)]"
      ]
     },
     "execution_count": 47,
     "metadata": {},
     "output_type": "execute_result"
    }
   ],
   "source": [
    "# deep copy\n",
    "# deepcopy:will not change the value of another list\n",
    "grocery_list=[\"potato\",\"orange\",1,2.2,True,(3+4j)]\n",
    "grocery_list"
   ]
  },
  {
   "cell_type": "code",
   "execution_count": 48,
   "id": "8390342f-92d1-457e-9ede-307ea85744ad",
   "metadata": {},
   "outputs": [
    {
     "data": {
      "text/plain": [
       "['potato', 'orange', 1, 2.2, True, (3+4j)]"
      ]
     },
     "execution_count": 48,
     "metadata": {},
     "output_type": "execute_result"
    }
   ],
   "source": [
    " b=grocery_list.copy() #here .copy()function create a new memory block and pointed the new memory block as b so if we chande inside b then no change in grocery_List\n",
    "b"
   ]
  },
  {
   "cell_type": "code",
   "execution_count": 49,
   "id": "e60cbb94-ffdc-47b5-b698-09f54dd2bac7",
   "metadata": {},
   "outputs": [
    {
     "data": {
      "text/plain": [
       "['mango', 'orange', 1, 2.2, True, (3+4j)]"
      ]
     },
     "execution_count": 49,
     "metadata": {},
     "output_type": "execute_result"
    }
   ],
   "source": [
    "b[0]=\"mango\" # here we change the 0th index value. that might be change in b but not grocery_list \n",
    "b"
   ]
  },
  {
   "cell_type": "code",
   "execution_count": 51,
   "id": "ed398053-0a3e-49e7-a14a-a7d498008584",
   "metadata": {},
   "outputs": [
    {
     "data": {
      "text/plain": [
       "['potato', 'orange', 1, 2.2, True, (3+4j)]"
      ]
     },
     "execution_count": 51,
     "metadata": {},
     "output_type": "execute_result"
    }
   ],
   "source": [
    "grocery_list"
   ]
  },
  {
   "cell_type": "code",
   "execution_count": 52,
   "id": "864d5eb3-8432-432a-9f41-02be347126ef",
   "metadata": {},
   "outputs": [],
   "source": [
    "prices=[10,20,30,40,50]\n",
    "double_prices=[]\n",
    "for i in prices:\n",
    "    double_prices.append(i*2)\n"
   ]
  },
  {
   "cell_type": "code",
   "execution_count": 53,
   "id": "d4bb8a8f-50c5-420c-b647-23095295bc45",
   "metadata": {},
   "outputs": [
    {
     "data": {
      "text/plain": [
       "[20, 40, 60, 80, 100]"
      ]
     },
     "execution_count": 53,
     "metadata": {},
     "output_type": "execute_result"
    }
   ],
   "source": [
    "double_prices"
   ]
  },
  {
   "cell_type": "code",
   "execution_count": 54,
   "id": "19558ed3-2523-4a48-beff-9f922c5fc208",
   "metadata": {},
   "outputs": [],
   "source": [
    "# list comprehension means in better way or in small way we can write the code\n",
    "double_prices=[prices*2 for prices in prices] # this is the tecnique"
   ]
  },
  {
   "cell_type": "code",
   "execution_count": 55,
   "id": "af914615-f3ef-4b14-a3f2-0b3ff470af45",
   "metadata": {},
   "outputs": [
    {
     "data": {
      "text/plain": [
       "[20, 40, 60, 80, 100]"
      ]
     },
     "execution_count": 55,
     "metadata": {},
     "output_type": "execute_result"
    }
   ],
   "source": [
    "double_prices"
   ]
  },
  {
   "cell_type": "markdown",
   "id": "ba10eb51-bb07-435f-b3ae-ba6f7f07d95d",
   "metadata": {},
   "source": [
    "# 3.Describe how to access, modify, and delete elements in a list with examples ?"
   ]
  },
  {
   "cell_type": "code",
   "execution_count": 1,
   "id": "806410f5-62b6-47c8-8e80-3e7ff49b3a0d",
   "metadata": {},
   "outputs": [
    {
     "data": {
      "text/plain": [
       "'\\n1.using list comprehension method \\n2.using extend() method \\n3.using zip() function \\n4. using insert function \\n5. using concatenation \\n'"
      ]
     },
     "execution_count": 1,
     "metadata": {},
     "output_type": "execute_result"
    }
   ],
   "source": [
    "# Sometimes, while working with data, we can have a problem in which we need to perform update operations\n",
    "# There are various ways to update a list in Python here, we are discussing some generally used methods for update list in Python which are the following.\n",
    "\"\"\"\n",
    "1.using list comprehension method \n",
    "2.using extend() method \n",
    "3.using zip() function \n",
    "4. using insert function \n",
    "5. using concatenation\n",
    "6. using capitalize() method\n",
    "\"\"\""
   ]
  },
  {
   "cell_type": "code",
   "execution_count": 2,
   "id": "4cd375d6-716e-45b0-a100-37dd48cf196e",
   "metadata": {},
   "outputs": [
    {
     "name": "stdout",
     "output_type": "stream",
     "text": [
      "[400, 1600, 3600, 6400, 10000]\n"
     ]
    }
   ],
   "source": [
    "# 1.using list comprehension method \n",
    "num=[20, 40, 60, 80, 100]\n",
    "square=[num **2 for num in num]\n",
    "print(square)"
   ]
  },
  {
   "cell_type": "code",
   "execution_count": 3,
   "id": "d7368a4c-8783-4d82-9a30-8d90e72f3734",
   "metadata": {},
   "outputs": [
    {
     "data": {
      "text/plain": [
       "['apple', 'orange', 'bamana', 'mango', 'jackfruit']"
      ]
     },
     "execution_count": 3,
     "metadata": {},
     "output_type": "execute_result"
    }
   ],
   "source": [
    "# 2.using extend() method \n",
    "my_list=[\"apple\",\"orange\",\"bamana\"]\n",
    "brothers_list=[\"mango\",\"jackfruit\"]\n",
    "my_list.extend(brothers_list) \n",
    "my_list"
   ]
  },
  {
   "cell_type": "code",
   "execution_count": 5,
   "id": "92ec338a-6cec-49c3-8971-976cd96c8f0c",
   "metadata": {},
   "outputs": [
    {
     "name": "stdout",
     "output_type": "stream",
     "text": [
      "{('orange', 200), ('apple', 100), ('bamana', 300)}\n"
     ]
    }
   ],
   "source": [
    "# using zip function \n",
    "my_list=[\"apple\",\"orange\",\"bamana\"]\n",
    "price=[100,200,300]\n",
    "ans=zip(my_list,price)\n",
    "print(set(ans))"
   ]
  },
  {
   "cell_type": "code",
   "execution_count": 7,
   "id": "c946175e-7e29-4c01-b311-81e099231c55",
   "metadata": {},
   "outputs": [],
   "source": [
    "# using insert function\n",
    "my_list=[\"apple\",\"orange\",\"bamana\"]\n",
    "my_list.insert(1,\"mango\")\n"
   ]
  },
  {
   "cell_type": "code",
   "execution_count": 8,
   "id": "c583d267-66da-425f-80af-8b6d3841a165",
   "metadata": {},
   "outputs": [
    {
     "data": {
      "text/plain": [
       "['apple', 'mango', 'orange', 'bamana']"
      ]
     },
     "execution_count": 8,
     "metadata": {},
     "output_type": "execute_result"
    }
   ],
   "source": [
    "my_list"
   ]
  },
  {
   "cell_type": "code",
   "execution_count": 11,
   "id": "71af321d-e3a0-4727-a8a1-0b3d523eed76",
   "metadata": {},
   "outputs": [
    {
     "name": "stdout",
     "output_type": "stream",
     "text": [
      "['niki', 'kalyan', 'krishna', 'biriyani', 'panir', 'butter']\n"
     ]
    }
   ],
   "source": [
    "l1=[\"niki\",\"kalyan\",\"krishna\"]\n",
    "l3=[\"biriyani\",\"panir\",\"butter\"]\n",
    "ans=l1+l3\n",
    "print(ans)"
   ]
  },
  {
   "cell_type": "code",
   "execution_count": 14,
   "id": "c6c2201f-aee0-4f2d-b724-7fced816cb44",
   "metadata": {},
   "outputs": [
    {
     "data": {
      "text/plain": [
       "['Niki', 'Kalyan', 'Krishna']"
      ]
     },
     "execution_count": 14,
     "metadata": {},
     "output_type": "execute_result"
    }
   ],
   "source": [
    "# capitalize\n",
    "l1=[\"niki\",\"kalyan\",\"krishna\"]\n",
    "[l1.capitalize()for l1 in l1]"
   ]
  },
  {
   "cell_type": "markdown",
   "id": "80d42cde-2daa-4770-811c-2fbcda769a07",
   "metadata": {},
   "source": [
    "# 4.Compare and contrast tuples and lists with examples ."
   ]
  },
  {
   "cell_type": "code",
   "execution_count": 19,
   "id": "8aa51b5e-a2cb-4f7f-aecf-7a9a2db54a2f",
   "metadata": {},
   "outputs": [],
   "source": [
    "# list :\n",
    "\"\"\"\n",
    "list are mutable .\n",
    "it is more time consuming than tuple \n",
    "the list is better for performing operations,such as insertion,deletion .\n",
    "list consumes more memory \n",
    "list have several built in methods \n",
    "\"\"\"\n",
    "# tuple\n",
    "\"\"\"\n",
    "tuple are immutable\n",
    "the implication of iteration is faster(comparatively)\n",
    "the tuple is  not better for performing operations(comparatively)\n",
    "tuple consumes less memory\n",
    "tuple does not have more built_in methods.\n",
    "\"\"\"\n",
    "# main difference is list is mutable and tuple is immutable\n",
    "list1=[11,12,2.4,True,4+6j,\"ram\"]\n"
   ]
  },
  {
   "cell_type": "code",
   "execution_count": 22,
   "id": "36735c2c-9eb5-481d-bbc8-5e86d6479720",
   "metadata": {},
   "outputs": [
    {
     "data": {
      "text/plain": [
       "12"
      ]
     },
     "execution_count": 22,
     "metadata": {},
     "output_type": "execute_result"
    }
   ],
   "source": [
    "list1[1]"
   ]
  },
  {
   "cell_type": "code",
   "execution_count": 23,
   "id": "d5a104d1-333f-4d0f-a64c-84d4ba266908",
   "metadata": {},
   "outputs": [],
   "source": [
    "list1[1]=100"
   ]
  },
  {
   "cell_type": "code",
   "execution_count": 25,
   "id": "757a0ff7-2275-4ad7-96d6-f20ad68a1b5d",
   "metadata": {},
   "outputs": [
    {
     "data": {
      "text/plain": [
       "[11, 100, 2.4, True, (4+6j), 'ram']"
      ]
     },
     "execution_count": 25,
     "metadata": {},
     "output_type": "execute_result"
    }
   ],
   "source": [
    "list1 # here we can change any value after creation "
   ]
  },
  {
   "cell_type": "code",
   "execution_count": 26,
   "id": "85cea502-8bc4-4080-bc6c-70432a218208",
   "metadata": {},
   "outputs": [
    {
     "data": {
      "text/plain": [
       "11"
      ]
     },
     "execution_count": 26,
     "metadata": {},
     "output_type": "execute_result"
    }
   ],
   "source": [
    "# tuple\n",
    "tup=(11,12,2.4,True,4+6j,\"ram\")\n",
    "tup[0]"
   ]
  },
  {
   "cell_type": "code",
   "execution_count": 28,
   "id": "6a9de474-2c56-4780-8365-3f6d6ac5bf5d",
   "metadata": {},
   "outputs": [
    {
     "ename": "TypeError",
     "evalue": "'tuple' object does not support item assignment",
     "output_type": "error",
     "traceback": [
      "\u001b[1;31m---------------------------------------------------------------------------\u001b[0m",
      "\u001b[1;31mTypeError\u001b[0m                                 Traceback (most recent call last)",
      "Cell \u001b[1;32mIn[28], line 1\u001b[0m\n\u001b[1;32m----> 1\u001b[0m tup[\u001b[38;5;241m0\u001b[39m]\u001b[38;5;241m=\u001b[39m\u001b[38;5;241m100\u001b[39m\n",
      "\u001b[1;31mTypeError\u001b[0m: 'tuple' object does not support item assignment"
     ]
    }
   ],
   "source": [
    "tup[0]=100 # here error occurs when we try to change the oth index value means after creation we can not exchande any value"
   ]
  },
  {
   "cell_type": "code",
   "execution_count": 31,
   "id": "48a0b5ec-ff54-4a89-879d-97ff949836fe",
   "metadata": {},
   "outputs": [
    {
     "data": {
      "text/plain": [
       "('pw', 1, 1, 1)"
      ]
     },
     "execution_count": 31,
     "metadata": {},
     "output_type": "execute_result"
    }
   ],
   "source": [
    "# some operation of tuple\n",
    "tuple2=(\"pw\",1,1,1,2.3,\"tam\",\"ram\",True)\n",
    "tuple2[0:4]"
   ]
  },
  {
   "cell_type": "code",
   "execution_count": 32,
   "id": "22b2bfc4-b843-4417-b334-e820448557ae",
   "metadata": {},
   "outputs": [
    {
     "data": {
      "text/plain": [
       "(True, 'ram', 'tam', 2.3, 1, 1, 1, 'pw')"
      ]
     },
     "execution_count": 32,
     "metadata": {},
     "output_type": "execute_result"
    }
   ],
   "source": [
    "tuple2[: : -1]"
   ]
  },
  {
   "cell_type": "code",
   "execution_count": 33,
   "id": "2b825da9-f368-419f-8efa-6da5837a73de",
   "metadata": {},
   "outputs": [
    {
     "name": "stdout",
     "output_type": "stream",
     "text": [
      "pw <class 'str'>\n",
      "1 <class 'int'>\n",
      "1 <class 'int'>\n",
      "1 <class 'int'>\n",
      "2.3 <class 'float'>\n",
      "tam <class 'str'>\n",
      "ram <class 'str'>\n",
      "True <class 'bool'>\n"
     ]
    }
   ],
   "source": [
    "for i in tuple2:\n",
    "    print(i,type(i))"
   ]
  },
  {
   "cell_type": "code",
   "execution_count": 4,
   "id": "c1455e02-e1b1-403b-bb9b-d969f219ec24",
   "metadata": {},
   "outputs": [
    {
     "data": {
      "text/plain": [
       "((1, 2, 3, 4), ['ram', True], 'pw', ['kalyan', 'niki'])"
      ]
     },
     "execution_count": 4,
     "metadata": {},
     "output_type": "execute_result"
    }
   ],
   "source": [
    "# use case\n",
    "# list inside tuple\n",
    "tup1=((1,2,3,4),[\"ram\",True],\"pw\",[\"kalyan\",\"niki\"])\n",
    "tup1"
   ]
  },
  {
   "cell_type": "markdown",
   "id": "1fdb08d5-26b3-423a-ab22-2d530ad27ad2",
   "metadata": {},
   "source": [
    "#  Describe the key features of sets and provide examples of their use .\r"
   ]
  },
  {
   "cell_type": "code",
   "execution_count": 5,
   "id": "4b3d4ede-5e06-4adb-88a9-602afe4ba1a9",
   "metadata": {},
   "outputs": [
    {
     "data": {
      "text/plain": [
       "set"
      ]
     },
     "execution_count": 5,
     "metadata": {},
     "output_type": "execute_result"
    }
   ],
   "source": [
    "# sets are unordered and unique collection of element \n",
    "# it does not allow duplicate elements \n",
    "# indexing not allowed\n",
    "# item of set in python are immutable .\n",
    "# some operation of set\n",
    "s={1,2,2,\"ajay\",\"AJAY\",\"ajay\"} # set id defined by {}, inside braces put normal value(means int,float,bool,etc)not key value pair \n",
    "type(s)"
   ]
  },
  {
   "cell_type": "code",
   "execution_count": 6,
   "id": "4662a6aa-2f97-4ff5-8606-8b7bfd6c83e8",
   "metadata": {},
   "outputs": [
    {
     "data": {
      "text/plain": [
       "{(3+4j), 1, 2.3, 'pw', 'ram', 'tam'}"
      ]
     },
     "execution_count": 6,
     "metadata": {},
     "output_type": "execute_result"
    }
   ],
   "source": [
    "# use case\n",
    "list1=[\"pw\",1,1,1,2.3,\"tam\",\"ram\",\"ram\",\"ram\",True,3+4j]\n",
    "s=set(list1)\n",
    "s"
   ]
  },
  {
   "cell_type": "code",
   "execution_count": 7,
   "id": "438bf450-fcc0-4035-9646-6b5a90500f03",
   "metadata": {},
   "outputs": [
    {
     "ename": "TypeError",
     "evalue": "unhashable type: 'set'",
     "output_type": "error",
     "traceback": [
      "\u001b[1;31m---------------------------------------------------------------------------\u001b[0m",
      "\u001b[1;31mTypeError\u001b[0m                                 Traceback (most recent call last)",
      "Cell \u001b[1;32mIn[7], line 2\u001b[0m\n\u001b[0;32m      1\u001b[0m \u001b[38;5;66;03m# set inside set it gives the error \u001b[39;00m\n\u001b[1;32m----> 2\u001b[0m s\u001b[38;5;241m=\u001b[39m{{\u001b[38;5;241m1\u001b[39m,\u001b[38;5;241m2\u001b[39m,\u001b[38;5;241m3\u001b[39m},\u001b[38;5;241m4\u001b[39m,\u001b[38;5;241m5\u001b[39m,{\u001b[38;5;241m44\u001b[39m,\u001b[38;5;241m34\u001b[39m}}\n\u001b[0;32m      3\u001b[0m s\n",
      "\u001b[1;31mTypeError\u001b[0m: unhashable type: 'set'"
     ]
    }
   ],
   "source": [
    "# set inside set it gives the error \n",
    "s={{1,2,3},4,5,{44,34}}\n",
    "s"
   ]
  },
  {
   "cell_type": "code",
   "execution_count": 15,
   "id": "1e45715a-2980-4aa4-993e-b6b5a3569844",
   "metadata": {},
   "outputs": [
    {
     "data": {
      "text/plain": [
       "{(3+4j), 1, 2.3, 'pw', 'ram', 'tam'}"
      ]
     },
     "execution_count": 15,
     "metadata": {},
     "output_type": "execute_result"
    }
   ],
   "source": [
    "s={\"pw\",1,1,1,2.3,\"tam\",\"ram\",\"ram\",\"ram\",3+4j} # here does not allow duplicate element \n",
    "s"
   ]
  },
  {
   "cell_type": "code",
   "execution_count": 16,
   "id": "3e741fb1-fc59-4abd-b7f9-760dcfcc15d5",
   "metadata": {},
   "outputs": [
    {
     "ename": "TypeError",
     "evalue": "'set' object is not subscriptable",
     "output_type": "error",
     "traceback": [
      "\u001b[1;31m---------------------------------------------------------------------------\u001b[0m",
      "\u001b[1;31mTypeError\u001b[0m                                 Traceback (most recent call last)",
      "Cell \u001b[1;32mIn[16], line 2\u001b[0m\n\u001b[0;32m      1\u001b[0m \u001b[38;5;66;03m# indexing not allow\u001b[39;00m\n\u001b[1;32m----> 2\u001b[0m s[\u001b[38;5;241m0\u001b[39m]\n",
      "\u001b[1;31mTypeError\u001b[0m: 'set' object is not subscriptable"
     ]
    }
   ],
   "source": [
    "# indexing not allow\n",
    "s[0]"
   ]
  },
  {
   "cell_type": "code",
   "execution_count": 17,
   "id": "ac8dcd31-9341-48b9-9afb-c99f057a04f6",
   "metadata": {},
   "outputs": [
    {
     "data": {
      "text/plain": [
       "1"
      ]
     },
     "execution_count": 17,
     "metadata": {},
     "output_type": "execute_result"
    }
   ],
   "source": [
    "s.pop()"
   ]
  },
  {
   "cell_type": "code",
   "execution_count": 18,
   "id": "31cf2341-137f-4f5d-acc8-f2a4b821091f",
   "metadata": {},
   "outputs": [
    {
     "data": {
      "text/plain": [
       "{(3+4j), 2.3, 'ram', 'tam'}"
      ]
     },
     "execution_count": 18,
     "metadata": {},
     "output_type": "execute_result"
    }
   ],
   "source": [
    "s.remove('pw')\n",
    "s"
   ]
  },
  {
   "cell_type": "code",
   "execution_count": null,
   "id": "cfb82022-1160-4b76-99dd-05f53921d054",
   "metadata": {},
   "outputs": [],
   "source": [
    "# pop and remove are use for deleting elements \n",
    "# pop ->> any element can delete\n",
    "# remove->> only selected element can delete"
   ]
  },
  {
   "cell_type": "code",
   "execution_count": 20,
   "id": "3eeeeb05-45f3-4f7b-b0f5-4e023a3086ca",
   "metadata": {},
   "outputs": [],
   "source": [
    "# update \n",
    "s.update([\"niki\"])"
   ]
  },
  {
   "cell_type": "code",
   "execution_count": 21,
   "id": "08fe8d67-0f76-4214-b89a-a872d2f01cd0",
   "metadata": {},
   "outputs": [
    {
     "data": {
      "text/plain": [
       "{(3+4j), 2.3, 'niki', 'ram', 'tam'}"
      ]
     },
     "execution_count": 21,
     "metadata": {},
     "output_type": "execute_result"
    }
   ],
   "source": [
    "s"
   ]
  },
  {
   "cell_type": "code",
   "execution_count": 24,
   "id": "84c32bea-dfc6-4392-bff2-da7eb0407e9b",
   "metadata": {},
   "outputs": [],
   "source": [
    "s.update([1,2,3])"
   ]
  },
  {
   "cell_type": "code",
   "execution_count": 25,
   "id": "a2595904-2ac1-439a-a458-3339d4392e4b",
   "metadata": {},
   "outputs": [
    {
     "data": {
      "text/plain": [
       "{(3+4j), 1, 2, 2.3, 3, 'niki', 'ram', 'tam'}"
      ]
     },
     "execution_count": 25,
     "metadata": {},
     "output_type": "execute_result"
    }
   ],
   "source": [
    "s"
   ]
  },
  {
   "cell_type": "code",
   "execution_count": 26,
   "id": "df12d51d-1117-4220-9c3f-3d90f61e796a",
   "metadata": {},
   "outputs": [],
   "source": [
    "s.add(\"love\")"
   ]
  },
  {
   "cell_type": "code",
   "execution_count": 27,
   "id": "f21bfd40-169e-4a31-9abd-5bff50f2f265",
   "metadata": {},
   "outputs": [
    {
     "data": {
      "text/plain": [
       "{(3+4j), 1, 2, 2.3, 3, 'love', 'niki', 'ram', 'tam'}"
      ]
     },
     "execution_count": 27,
     "metadata": {},
     "output_type": "execute_result"
    }
   ],
   "source": [
    "s"
   ]
  },
  {
   "cell_type": "code",
   "execution_count": 28,
   "id": "c94d3aba-1044-4929-aef6-2b3ea1f021cf",
   "metadata": {},
   "outputs": [],
   "source": [
    "s.discard(111)\n"
   ]
  },
  {
   "cell_type": "code",
   "execution_count": 29,
   "id": "e0ab8bd8-65ee-4e73-8934-0f7bee7fea38",
   "metadata": {},
   "outputs": [
    {
     "data": {
      "text/plain": [
       "{(3+4j), 1, 2, 2.3, 3, 'love', 'niki', 'ram', 'tam'}"
      ]
     },
     "execution_count": 29,
     "metadata": {},
     "output_type": "execute_result"
    }
   ],
   "source": [
    "s"
   ]
  },
  {
   "cell_type": "code",
   "execution_count": 30,
   "id": "d1ec5261-97b0-4e37-b264-d5a8c7bf4c2c",
   "metadata": {},
   "outputs": [],
   "source": [
    "s.clear()"
   ]
  },
  {
   "cell_type": "code",
   "execution_count": 31,
   "id": "5d08505f-b67b-40b5-92e0-936c372dc8e1",
   "metadata": {},
   "outputs": [
    {
     "data": {
      "text/plain": [
       "set()"
      ]
     },
     "execution_count": 31,
     "metadata": {},
     "output_type": "execute_result"
    }
   ],
   "source": [
    "s"
   ]
  },
  {
   "cell_type": "code",
   "execution_count": 32,
   "id": "d1257a6a-cd5f-46e7-9b4b-6e90ff94fc12",
   "metadata": {},
   "outputs": [],
   "source": [
    "# set operations \n",
    "# union:combines all elements from two sets excluding duplicates \n",
    "# intersection:only common elements between sets\n",
    "# set difference:return the elements that are present in first set not in the second set \n",
    "# symmetric difference:return except the common element means  present in either of sets but not both\n",
    "s1={\"hiking\",\"reading\",\"coding\"}\n",
    "s2={\"coding\",\"photography\",\"traveling\"}"
   ]
  },
  {
   "cell_type": "code",
   "execution_count": 33,
   "id": "7497c4ca-bb8b-4d48-a431-6e3d6b7f479a",
   "metadata": {},
   "outputs": [
    {
     "data": {
      "text/plain": [
       "{'coding', 'hiking', 'photography', 'reading', 'traveling'}"
      ]
     },
     "execution_count": 33,
     "metadata": {},
     "output_type": "execute_result"
    }
   ],
   "source": [
    "# union \n",
    "s1 | s2"
   ]
  },
  {
   "cell_type": "code",
   "execution_count": 34,
   "id": "5cf2551b-e792-4b0e-a7ca-ebda5508db77",
   "metadata": {},
   "outputs": [
    {
     "data": {
      "text/plain": [
       "{'coding'}"
      ]
     },
     "execution_count": 34,
     "metadata": {},
     "output_type": "execute_result"
    }
   ],
   "source": [
    "# intersection \n",
    "s1&s2"
   ]
  },
  {
   "cell_type": "code",
   "execution_count": 35,
   "id": "e64e73f1-477c-4256-9046-18a72b34e8d9",
   "metadata": {},
   "outputs": [
    {
     "data": {
      "text/plain": [
       "{'hiking', 'reading'}"
      ]
     },
     "execution_count": 35,
     "metadata": {},
     "output_type": "execute_result"
    }
   ],
   "source": [
    "# set difference\n",
    "s1-s2"
   ]
  },
  {
   "cell_type": "code",
   "execution_count": 36,
   "id": "168c2a77-146c-426c-b4cf-4cf72295becb",
   "metadata": {},
   "outputs": [
    {
     "data": {
      "text/plain": [
       "{'hiking', 'photography', 'reading', 'traveling'}"
      ]
     },
     "execution_count": 36,
     "metadata": {},
     "output_type": "execute_result"
    }
   ],
   "source": [
    "# symmetric difference\n",
    "s1 ^ s2"
   ]
  },
  {
   "cell_type": "code",
   "execution_count": 37,
   "id": "77acd02d-8b69-42bc-a191-67a8f10faed6",
   "metadata": {},
   "outputs": [
    {
     "data": {
      "text/plain": [
       "frozenset({1, 2, 3, 4, 5})"
      ]
     },
     "execution_count": 37,
     "metadata": {},
     "output_type": "execute_result"
    }
   ],
   "source": [
    "# frozen sets ->> immutable version of set ,cannot be added or removed any new element \n",
    "my_fs=frozenset([1,2,2,2,3,3,4,5])\n",
    "my_fs"
   ]
  },
  {
   "cell_type": "code",
   "execution_count": 38,
   "id": "8170c567-e562-4957-8e9b-c1c5ea16f480",
   "metadata": {},
   "outputs": [
    {
     "data": {
      "text/plain": [
       "frozenset"
      ]
     },
     "execution_count": 38,
     "metadata": {},
     "output_type": "execute_result"
    }
   ],
   "source": [
    "type(my_fs)"
   ]
  },
  {
   "cell_type": "code",
   "execution_count": 39,
   "id": "fff42b9e-2de4-46e1-ac88-af0b0732a462",
   "metadata": {},
   "outputs": [
    {
     "ename": "AttributeError",
     "evalue": "'frozenset' object has no attribute 'add'",
     "output_type": "error",
     "traceback": [
      "\u001b[1;31m---------------------------------------------------------------------------\u001b[0m",
      "\u001b[1;31mAttributeError\u001b[0m                            Traceback (most recent call last)",
      "Cell \u001b[1;32mIn[39], line 1\u001b[0m\n\u001b[1;32m----> 1\u001b[0m my_fs\u001b[38;5;241m.\u001b[39madd(\u001b[38;5;241m22\u001b[39m)\n",
      "\u001b[1;31mAttributeError\u001b[0m: 'frozenset' object has no attribute 'add'"
     ]
    }
   ],
   "source": [
    "my_fs.add(22)"
   ]
  },
  {
   "cell_type": "markdown",
   "id": "fc938c0a-2c43-475c-9b77-3793fd14ae8a",
   "metadata": {},
   "source": [
    "# 6. Discuss the use cases of tuples and sets in Python programming ?\n"
   ]
  },
  {
   "cell_type": "code",
   "execution_count": 43,
   "id": "8bc17b5a-7d7f-4c93-a93e-e39e58de1a22",
   "metadata": {},
   "outputs": [],
   "source": [
    "# use case of set\n",
    "# set operations \n",
    "# union:combines all elements from two sets excluding duplicates \n",
    "# intersection:only common elements between sets\n",
    "# set difference:return the elements that are present in first set not in the second set \n",
    "# symmetric difference:return except the common element means  present in either of sets but not both\n",
    "# A common use of sets in Python is computing standard math operations such as union, intersection, difference, and symmetric difference.\n",
    "s1={\"hiking\",\"reading\",\"coding\"}\n",
    "s2={\"coding\",\"photography\",\"traveling\"}"
   ]
  },
  {
   "cell_type": "code",
   "execution_count": 44,
   "id": "bb978844-7e33-4b64-a855-6589c1423641",
   "metadata": {},
   "outputs": [
    {
     "data": {
      "text/plain": [
       "{'coding', 'hiking', 'photography', 'reading', 'traveling'}"
      ]
     },
     "execution_count": 44,
     "metadata": {},
     "output_type": "execute_result"
    }
   ],
   "source": [
    "# union \n",
    "s1 | s2"
   ]
  },
  {
   "cell_type": "code",
   "execution_count": 45,
   "id": "262edbae-0020-4f1f-85ba-b9ab58872251",
   "metadata": {},
   "outputs": [
    {
     "data": {
      "text/plain": [
       "{'coding', 'hiking', 'reading'}"
      ]
     },
     "execution_count": 45,
     "metadata": {},
     "output_type": "execute_result"
    }
   ],
   "source": [
    "# intersection \n",
    "s1 & s1"
   ]
  },
  {
   "cell_type": "code",
   "execution_count": 46,
   "id": "45bde798-6e95-46ac-a0a8-8f53e54a6729",
   "metadata": {},
   "outputs": [
    {
     "data": {
      "text/plain": [
       "{'hiking', 'reading'}"
      ]
     },
     "execution_count": 46,
     "metadata": {},
     "output_type": "execute_result"
    }
   ],
   "source": [
    "# diff\n",
    "s1-s2"
   ]
  },
  {
   "cell_type": "code",
   "execution_count": 47,
   "id": "d8397432-3001-4882-98c5-b0f096c71ad9",
   "metadata": {},
   "outputs": [
    {
     "data": {
      "text/plain": [
       "{'hiking', 'photography', 'reading', 'traveling'}"
      ]
     },
     "execution_count": 47,
     "metadata": {},
     "output_type": "execute_result"
    }
   ],
   "source": [
    "# symmetric\n",
    "s1 ^ s2"
   ]
  },
  {
   "cell_type": "code",
   "execution_count": 49,
   "id": "674f6f1b-7f64-4cff-94f3-168b6bbef4d9",
   "metadata": {},
   "outputs": [
    {
     "name": "stdout",
     "output_type": "stream",
     "text": [
      "pw <class 'str'>\n",
      "1 <class 'int'>\n",
      "1 <class 'int'>\n",
      "1 <class 'int'>\n",
      "2.3 <class 'float'>\n",
      "tam <class 'str'>\n",
      "ram <class 'str'>\n",
      "True <class 'bool'>\n"
     ]
    }
   ],
   "source": [
    "# use case of tuple\n",
    "tuple2=(\"pw\",1,1,1,2.3,\"tam\",\"ram\",True)\n",
    "for i in tuple2:\n",
    "    print(i,type(i))"
   ]
  },
  {
   "cell_type": "code",
   "execution_count": 50,
   "id": "6c669df8-cbf3-4d57-ba42-943551011aac",
   "metadata": {},
   "outputs": [
    {
     "data": {
      "text/plain": [
       "((1, 2, 3, 4), ['ram', True], 'pw', ['kalyan', 'niki'])"
      ]
     },
     "execution_count": 50,
     "metadata": {},
     "output_type": "execute_result"
    }
   ],
   "source": [
    "# another usecase \n",
    "# list inside tuple\n",
    "tup1=((1,2,3,4),[\"ram\",True],\"pw\",[\"kalyan\",\"niki\"])\n",
    "tup1"
   ]
  },
  {
   "cell_type": "markdown",
   "id": "56205383-bb8f-4a5f-a0ea-9af68d136f8a",
   "metadata": {},
   "source": [
    "# 7. Describe how to add, modify,and delete items in a dictionary with examples .\n"
   ]
  },
  {
   "cell_type": "code",
   "execution_count": 14,
   "id": "d798d633-16ab-45e8-bdf1-20fa58f457c2",
   "metadata": {},
   "outputs": [
    {
     "data": {
      "text/plain": [
       "{'name': 'niki', 'age': 20, 'studied ': 'geography horns'}"
      ]
     },
     "execution_count": 14,
     "metadata": {},
     "output_type": "execute_result"
    }
   ],
   "source": [
    "# Dictionaries in Python is a data structure, used to store values in key: value format. This makes it different from lists, tuples, and arrays as in a dictionary each key has an associated value.\n",
    "# Note: As of Python version 3.7, dictionaries are ordered and can not contain duplicate keys.\n",
    "# dictionary is defined like dicti={} ,here dicti is variable \n",
    "# ex: of  dictionary {}\n",
    "d={\"name\":\"niki\",\"age\":20,\"studied \":\"geography horns\"}\n",
    "d"
   ]
  },
  {
   "cell_type": "code",
   "execution_count": 15,
   "id": "94eaeced-18ef-4cff-b9b8-b13cf0f8a6b1",
   "metadata": {},
   "outputs": [],
   "source": [
    "# add key values\n",
    "d[\"address\"]=\"bamgalore\" # add new key value pair"
   ]
  },
  {
   "cell_type": "code",
   "execution_count": 16,
   "id": "64a5835e-60c3-42d1-b859-60ac8e31d70f",
   "metadata": {},
   "outputs": [
    {
     "data": {
      "text/plain": [
       "{'name': 'niki',\n",
       " 'age': 20,\n",
       " 'studied ': 'geography horns',\n",
       " 'address': 'bamgalore'}"
      ]
     },
     "execution_count": 16,
     "metadata": {},
     "output_type": "execute_result"
    }
   ],
   "source": [
    "d"
   ]
  },
  {
   "cell_type": "code",
   "execution_count": 17,
   "id": "7328b5a2-3c38-4d46-a585-d9a274bfcfb5",
   "metadata": {},
   "outputs": [],
   "source": [
    "# another add\n",
    "d[\"real_name\"]=\"love\""
   ]
  },
  {
   "cell_type": "code",
   "execution_count": 18,
   "id": "f127d5ad-d86b-40f4-b4e1-4c8acecbf0f4",
   "metadata": {},
   "outputs": [
    {
     "name": "stdout",
     "output_type": "stream",
     "text": [
      "{'name': 'niki', 'age': 20, 'studied ': 'geography horns', 'address': 'bamgalore', 'real_name': 'love'}\n"
     ]
    }
   ],
   "source": [
    "print (d)"
   ]
  },
  {
   "cell_type": "code",
   "execution_count": 19,
   "id": "cc1ab317-7c14-437b-9d49-b3f00c6bb487",
   "metadata": {},
   "outputs": [],
   "source": [
    "# here delete operation \n",
    "del d [\"real_name\"]"
   ]
  },
  {
   "cell_type": "code",
   "execution_count": 20,
   "id": "1efced27-5935-404b-8248-5e4501f579e3",
   "metadata": {},
   "outputs": [
    {
     "name": "stdout",
     "output_type": "stream",
     "text": [
      "{'name': 'niki', 'age': 20, 'studied ': 'geography horns', 'address': 'bamgalore'}\n"
     ]
    }
   ],
   "source": [
    "# here real name column must be deleted \n",
    "print (d)"
   ]
  },
  {
   "cell_type": "code",
   "execution_count": 21,
   "id": "325120b7-733c-4fc6-b957-39b091f4f7f9",
   "metadata": {},
   "outputs": [
    {
     "data": {
      "text/plain": [
       "dict"
      ]
     },
     "execution_count": 21,
     "metadata": {},
     "output_type": "execute_result"
    }
   ],
   "source": [
    "type(d)"
   ]
  },
  {
   "cell_type": "code",
   "execution_count": 22,
   "id": "3aa8f40a-b971-4b64-8f2c-0e9da94fcadf",
   "metadata": {},
   "outputs": [
    {
     "data": {
      "text/plain": [
       "'bamgalore'"
      ]
     },
     "execution_count": 22,
     "metadata": {},
     "output_type": "execute_result"
    }
   ],
   "source": [
    "# we can delete this way also but here only one key will be deleted\n",
    "d.pop(\"address\")"
   ]
  },
  {
   "cell_type": "code",
   "execution_count": 23,
   "id": "385f9cf1-6e4c-4565-aabe-021841968bae",
   "metadata": {},
   "outputs": [
    {
     "data": {
      "text/plain": [
       "{'name': 'niki', 'age': 20, 'studied ': 'geography horns'}"
      ]
     },
     "execution_count": 23,
     "metadata": {},
     "output_type": "execute_result"
    }
   ],
   "source": [
    "d"
   ]
  },
  {
   "cell_type": "code",
   "execution_count": 24,
   "id": "431481c1-b746-49fd-b29b-4b3628452d30",
   "metadata": {},
   "outputs": [],
   "source": [
    "# here all data clear\n",
    "d.clear()"
   ]
  },
  {
   "cell_type": "code",
   "execution_count": 25,
   "id": "48083aee-8cf8-4939-aeae-d0fa1c68b971",
   "metadata": {},
   "outputs": [
    {
     "data": {
      "text/plain": [
       "{}"
      ]
     },
     "execution_count": 25,
     "metadata": {},
     "output_type": "execute_result"
    }
   ],
   "source": [
    "d"
   ]
  },
  {
   "cell_type": "code",
   "execution_count": 26,
   "id": "5b481b72-ee3d-406d-800a-9eec3b379161",
   "metadata": {},
   "outputs": [
    {
     "data": {
      "text/plain": [
       "{'name': 'niki',\n",
       " 'age': 20,\n",
       " 'studied ': 'geography horns',\n",
       " 'address': 'bamgalore'}"
      ]
     },
     "execution_count": 26,
     "metadata": {},
     "output_type": "execute_result"
    }
   ],
   "source": [
    "# now modify \n",
    "d1={'name': 'niki', 'age': 20, 'studied ': 'geography horns', 'address': 'bamgalore'}\n",
    "d1"
   ]
  },
  {
   "cell_type": "code",
   "execution_count": 27,
   "id": "7b7ef217-df65-4632-9948-81e65d7e39db",
   "metadata": {},
   "outputs": [
    {
     "name": "stdout",
     "output_type": "stream",
     "text": [
      "{'name': 'niki', 'age': 20, 'studied ': 'geography horns', 'address': 'kolkata'}\n"
     ]
    }
   ],
   "source": [
    "# you want to modify the address bangalore to kolkata\n",
    "d1[\"address\"]=\"kolkata\"\n",
    "print(d1)"
   ]
  },
  {
   "cell_type": "code",
   "execution_count": 28,
   "id": "5f568654-1141-4fe4-bf51-2853e97e7de3",
   "metadata": {},
   "outputs": [
    {
     "data": {
      "text/plain": [
       "{'ajay': 99, 'kalyan': 95, 'nikita': 96}"
      ]
     },
     "execution_count": 28,
     "metadata": {},
     "output_type": "execute_result"
    }
   ],
   "source": [
    "# using zip function \n",
    "#zip function dictionary comprehension \n",
    "student=[\"ajay\",\"kalyan\",\"nikita\"]\n",
    "marks=[99,95,96]\n",
    "{student:marks for student,marks in zip(student,marks)}\n",
    "    "
   ]
  },
  {
   "cell_type": "code",
   "execution_count": 29,
   "id": "41c58052-38a2-4475-a5be-bef831389880",
   "metadata": {},
   "outputs": [
    {
     "name": "stdout",
     "output_type": "stream",
     "text": [
      "{'name': 'niki', 'age': 20, 'studied ': 'geography horns', 'address': 'kolkata', 'course': 'data science'}\n"
     ]
    }
   ],
   "source": [
    "d2={\"course\":\"data science\"}\n",
    "# here we update d1 dictionary by d2\n",
    "d1.update(d2)\n",
    "print(d1)"
   ]
  },
  {
   "cell_type": "code",
   "execution_count": 30,
   "id": "dd061065-5ed1-4a62-9da8-0db4631bfddf",
   "metadata": {},
   "outputs": [],
   "source": [
    "# if you want to delete the whole dictionary \n",
    "del d1"
   ]
  },
  {
   "cell_type": "code",
   "execution_count": 31,
   "id": "5889881a-44a7-489c-9c30-16f8f52c40b8",
   "metadata": {},
   "outputs": [
    {
     "ename": "NameError",
     "evalue": "name 'd1' is not defined",
     "output_type": "error",
     "traceback": [
      "\u001b[1;31m---------------------------------------------------------------------------\u001b[0m",
      "\u001b[1;31mNameError\u001b[0m                                 Traceback (most recent call last)",
      "Cell \u001b[1;32mIn[31], line 1\u001b[0m\n\u001b[1;32m----> 1\u001b[0m d1\n",
      "\u001b[1;31mNameError\u001b[0m: name 'd1' is not defined"
     ]
    }
   ],
   "source": [
    "d1"
   ]
  },
  {
   "cell_type": "code",
   "execution_count": 38,
   "id": "b52f7e3e-ac7a-4b64-981b-c9edcad53cd9",
   "metadata": {},
   "outputs": [
    {
     "data": {
      "text/plain": [
       "dict_keys(['name', 'age', 'studied ', 'address'])"
      ]
     },
     "execution_count": 38,
     "metadata": {},
     "output_type": "execute_result"
    }
   ],
   "source": [
    "# if you want to see the dict values and keys \n",
    "d2={'name': 'niki', 'age': 20, 'studied ': 'geography horns', 'address': 'kolkata'}\n",
    "d2.keys()"
   ]
  },
  {
   "cell_type": "code",
   "execution_count": 39,
   "id": "9449d50e-4d37-4248-99c5-4990ba0028bf",
   "metadata": {},
   "outputs": [
    {
     "data": {
      "text/plain": [
       "dict_values(['niki', 20, 'geography horns', 'kolkata'])"
      ]
     },
     "execution_count": 39,
     "metadata": {},
     "output_type": "execute_result"
    }
   ],
   "source": [
    "d2.values()"
   ]
  },
  {
   "cell_type": "markdown",
   "id": "bcc1f783-d059-4049-8f56-859b9bd872dc",
   "metadata": {},
   "source": [
    "# 8. Discuss the importance of dictionary keys being immutable and provide examples ."
   ]
  },
  {
   "cell_type": "code",
   "execution_count": 33,
   "id": "89f30ffd-7219-4b59-bda5-293bb32abeee",
   "metadata": {},
   "outputs": [
    {
     "ename": "TypeError",
     "evalue": "unhashable type: 'list'",
     "output_type": "error",
     "traceback": [
      "\u001b[1;31m---------------------------------------------------------------------------\u001b[0m",
      "\u001b[1;31mTypeError\u001b[0m                                 Traceback (most recent call last)",
      "Cell \u001b[1;32mIn[33], line 12\u001b[0m\n\u001b[0;32m      7\u001b[0m \u001b[38;5;124;03m\"\"\"\u001b[39;00m\n\u001b[0;32m      8\u001b[0m \u001b[38;5;124;03mConsider a dictionary with a list as a key. If the list could change,the hash value would change, and the dictionary would \u001b[39;00m\n\u001b[0;32m      9\u001b[0m \u001b[38;5;124;03mno longer be able to locate the correct value associated with that list.\u001b[39;00m\n\u001b[0;32m     10\u001b[0m \u001b[38;5;124;03m\"\"\"\u001b[39;00m\n\u001b[0;32m     11\u001b[0m \u001b[38;5;66;03m# you cannot use list set  as a  key\u001b[39;00m\n\u001b[1;32m---> 12\u001b[0m d\u001b[38;5;241m=\u001b[39m{[\u001b[38;5;241m1\u001b[39m,\u001b[38;5;241m2\u001b[39m,\u001b[38;5;241m3\u001b[39m]:\u001b[38;5;124m\"\u001b[39m\u001b[38;5;124mabc\u001b[39m\u001b[38;5;124m\"\u001b[39m} \u001b[38;5;66;03m# error occurs because list are mutable and unhashable\u001b[39;00m\n\u001b[0;32m     13\u001b[0m d\n",
      "\u001b[1;31mTypeError\u001b[0m: unhashable type: 'list'"
     ]
    }
   ],
   "source": [
    "#\n",
    "\"\"\"\n",
    "In Python, dictionary keys must be immutable, which means they cannot be changed after they are created.\n",
    "This requirement is crucial for several reasons:\n",
    "\"\"\"\n",
    "# 1. Hashability:\n",
    "\"\"\"\n",
    "Consider a dictionary with a list as a key. If the list could change,the hash value would change, and the dictionary would \n",
    "no longer be able to locate the correct value associated with that list.\n",
    "\"\"\"\n",
    "# you cannot use list set  as a  key\n",
    "d={[1,2,3]:\"abc\"} # error occurs because list are mutable and unhashable\n",
    "d"
   ]
  },
  {
   "cell_type": "code",
   "execution_count": 34,
   "id": "ae3cfddd-5b60-4d35-97b8-ae80a67b939a",
   "metadata": {},
   "outputs": [
    {
     "data": {
      "text/plain": [
       "{(1, 2, 3): 'abc'}"
      ]
     },
     "execution_count": 34,
     "metadata": {},
     "output_type": "execute_result"
    }
   ],
   "source": [
    "# 2. Consistency and Integrity:\n",
    "\"\"\"\n",
    " If tuples (which are immutable) are used as keys, the key-value pairs remain reliable, as the tuples’ contents cannot be altered.\n",
    " \"\"\"\n",
    "d={(1,2,3):\"abc\"} # error  does not occurs because tuple are immutable and hashable we can use the tuple as a key \n",
    "d"
   ]
  },
  {
   "cell_type": "code",
   "execution_count": 35,
   "id": "0b6f9fd4-8a0c-432a-847d-f6748bc1971c",
   "metadata": {},
   "outputs": [
    {
     "name": "stdout",
     "output_type": "stream",
     "text": [
      "Ravan\n"
     ]
    }
   ],
   "source": [
    "# another example of immutable and hashable\n",
    "# String as a key, which is immutable and hashable\n",
    "my_dict = {\"name\": \"Ravan\", \"age\": 30}\n",
    "print(my_dict[\"name\"])  # it is absolutely running because \"immutable and hashable\"\n"
   ]
  },
  {
   "cell_type": "code",
   "execution_count": 37,
   "id": "b3f605e1-0c12-4d06-87f2-cf2297056841",
   "metadata": {},
   "outputs": [
    {
     "name": "stdout",
     "output_type": "stream",
     "text": [
      "three\n"
     ]
    }
   ],
   "source": [
    "# 4. Logical Integrity of Code:\n",
    "\"\"\"\n",
    " Immutable keys like integers or strings maintain the logical flow and reliability of dictionary operations.\n",
    " \"\"\"\n",
    "# example of immutuable and hashable \n",
    "# Integer as a key, which is immutable and hashable\n",
    "my_dict = {111: \"one\", 222: \"two\", 333: \"three\"}\n",
    "print(my_dict[333])  \n",
    "# it is absolutely running"
   ]
  },
  {
   "cell_type": "code",
   "execution_count": null,
   "id": "78fe3cb2-cad3-4d4f-8e7d-6b7c932227cc",
   "metadata": {},
   "outputs": [],
   "source": []
  }
 ],
 "metadata": {
  "kernelspec": {
   "display_name": "Python 3 (ipykernel)",
   "language": "python",
   "name": "python3"
  },
  "language_info": {
   "codemirror_mode": {
    "name": "ipython",
    "version": 3
   },
   "file_extension": ".py",
   "mimetype": "text/x-python",
   "name": "python",
   "nbconvert_exporter": "python",
   "pygments_lexer": "ipython3",
   "version": "3.11.7"
  }
 },
 "nbformat": 4,
 "nbformat_minor": 5
}
