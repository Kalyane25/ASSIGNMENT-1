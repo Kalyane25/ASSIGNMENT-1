{
 "cells": [
  {
   "cell_type": "markdown",
   "id": "c1809ff8-4f79-4100-bd72-fbb341db78fd",
   "metadata": {},
   "source": [
    "# 1. What is the difference between a function and a method in Python ?"
   ]
  },
  {
   "cell_type": "code",
   "execution_count": 1,
   "id": "3a660bc7-059c-4a1a-96be-8947a6a13e1b",
   "metadata": {},
   "outputs": [],
   "source": [
    "# function:In Python, a \"function\" is a block of code that performs a specific task, (independent).\n",
    "#The function can have different parameters or may not have any at all.If any data (parameters) are passed, they are passed explicitly.\n",
    "#Function does not deal with Class and its instance concept.\n",
    "# ex:\n",
    "def cal_area(l,b):\n",
    "    return l*b"
   ]
  },
  {
   "cell_type": "code",
   "execution_count": 2,
   "id": "e84b48b1-3936-404c-a559-7a36e764dcd6",
   "metadata": {},
   "outputs": [
    {
     "data": {
      "text/plain": [
       "6"
      ]
     },
     "execution_count": 2,
     "metadata": {},
     "output_type": "execute_result"
    }
   ],
   "source": [
    "cal_area(2,3)"
   ]
  },
  {
   "cell_type": "code",
   "execution_count": 17,
   "id": "85e5595d-b33e-47b6-a4e7-5a8dfb8c74d9",
   "metadata": {},
   "outputs": [],
   "source": [
    "# method:while a \"method\" is a function that is specifically associated with a class or object(dependent)\n",
    "# A method definition always includes ‘self’ as its first parameter.\n",
    "# A method is implicitly passed to the object on which it is invoked.\n",
    "# method deals with Class and its instance concept.\n",
    "# ex:]\n",
    "class rectangle:\n",
    "    def cal_area(len,bre):\n",
    "        return len*bre"
   ]
  },
  {
   "cell_type": "code",
   "execution_count": 18,
   "id": "38711bcb-bb4b-4935-838a-08e85bec16f8",
   "metadata": {},
   "outputs": [],
   "source": [
    "obj=rectangle\n"
   ]
  },
  {
   "cell_type": "markdown",
   "id": "9a40a10e-0cf5-469a-9aa4-743cda391627",
   "metadata": {},
   "source": [
    "obj.cal_area(2,3)"
   ]
  },
  {
   "cell_type": "code",
   "execution_count": 20,
   "id": "0c726eb1-9c21-4204-ba9d-debb66f3ce38",
   "metadata": {},
   "outputs": [],
   "source": [
    "# ex:\n",
    "class My_class:\n",
    "  def instance_method(self):\n",
    "    return \"This is an instance method.\"\n"
   ]
  },
  {
   "cell_type": "code",
   "execution_count": 21,
   "id": "2c7a7fb0-8644-495a-9349-7627c03460ab",
   "metadata": {},
   "outputs": [
    {
     "data": {
      "text/plain": [
       "'This is an instance method.'"
      ]
     },
     "execution_count": 21,
     "metadata": {},
     "output_type": "execute_result"
    }
   ],
   "source": [
    "obj=My_class()\n",
    "obj.instance_method()"
   ]
  },
  {
   "cell_type": "markdown",
   "id": "0b15171d-0f2a-4421-b665-a455b95bdd76",
   "metadata": {},
   "source": [
    "# 2. Explain the concept of function arguments and parameters in Python.\r\n",
    "\r"
   ]
  },
  {
   "cell_type": "code",
   "execution_count": 92,
   "id": "9fbb8b72-486a-47c4-9db2-be96cb7a9fb3",
   "metadata": {},
   "outputs": [
    {
     "data": {
      "text/plain": [
       "'\\nThe four types of arguments in Python are:\\n\\nPositional arguments: These are passed to functions in the same order as the parameters are defined.\\nKeyword arguments: These are passed with the parameter name, allowing them to be in any order.\\nDefault arguments: These have a default value if no argument is provided.\\nVariable-length arguments: These allow passing an arbitrary number of arguments, using *args for positional and **kwargs for keyword arguments.\\nex:previous function fun(1,2) ->> here 1 and 2 are argument\\n'"
      ]
     },
     "execution_count": 92,
     "metadata": {},
     "output_type": "execute_result"
    }
   ],
   "source": [
    "# parameter:\n",
    "\"\"\"\n",
    "A parameter is the variable defined within the parentheses during function definition. \n",
    "Simply they are written when we declare a function.\n",
    "ex: \n",
    "def fun(a,b):\n",
    "    print a+b    here a and b are parameter\n",
    "\"\"\"\n",
    "# argument:An argument is a value that is passed to a function when it is called. It might be a variable, value or object passed to a function or method as input. They are written when we are calling the function.\n",
    "\"\"\"\n",
    "The four types of arguments in Python are:\n",
    "\n",
    "Positional arguments: These are passed to functions in the same order as the parameters are defined.\n",
    "Keyword arguments: These are passed with the parameter name, allowing them to be in any order.\n",
    "Default arguments: These have a default value if no argument is provided.\n",
    "Variable-length arguments: These allow passing an arbitrary number of arguments, using *args for positional and **kwargs for keyword arguments.\n",
    "ex:previous function fun(1,2) ->> here 1 and 2 are argument\n",
    "\"\"\""
   ]
  },
  {
   "cell_type": "markdown",
   "id": "7bfda3f1-cd6c-4043-968d-131d5086c158",
   "metadata": {},
   "source": [
    "# 3.What are the different ways to define and call a function in Python?"
   ]
  },
  {
   "cell_type": "code",
   "execution_count": 94,
   "id": "6c3af650-7837-44b9-bf5b-f57ab764e967",
   "metadata": {},
   "outputs": [
    {
     "data": {
      "text/plain": [
       "'\\nmany built in function \\nor \\nLambda (Anonymous) Function,reduce function etc.\\n'"
      ]
     },
     "execution_count": 94,
     "metadata": {},
     "output_type": "execute_result"
    }
   ],
   "source": [
    "# In Python, functions can be defined and called in several different ways depending on the use case. Here are the common ways to define and call functions:\n",
    "\"\"\"\n",
    "1. Basic Function Definition and Call\n",
    "A function is defined using the def keyword, and it is called by its name followed by parentheses.\n",
    "def greet():\n",
    "    print(\"Hello, World!\")\n",
    "greet()\n",
    "2.function with parameter\n",
    "You can define a function that takes arguments.\n",
    "def greet(name):\n",
    "    print(f\"Hello, {name}!\")\n",
    "greet(\"Alice\")\n",
    "3. Function with Default Parameters\n",
    "You can provide default values for parameters.\n",
    "def greet(name=\"World\"):\n",
    "    print(f\"Hello, {name}!\")\n",
    "greet()        # Output: Hello, World!\n",
    "greet(\"Alice\") # Output: Hello, Alice!\n",
    "4. Function with Return Values\n",
    "A function can return values using the return statement.\n",
    "def add(a, b):\n",
    "    return a + b\n",
    "result = add(5, 3)\n",
    "print(result)  # Output: 8\n",
    " \"\"\"\n",
    "# except those more function are there\n",
    "\"\"\"\n",
    "many built in function \n",
    "or \n",
    "Lambda (Anonymous) Function,reduce function etc.\n",
    "\"\"\""
   ]
  },
  {
   "cell_type": "markdown",
   "id": "009a1fd2-98a1-47c4-8585-4e73ad8670d4",
   "metadata": {},
   "source": [
    "# 4. What is the purpose of the `return` statement in a Python function?"
   ]
  },
  {
   "cell_type": "code",
   "execution_count": null,
   "id": "4fe35058-dcdf-47b5-86ff-328d12541e95",
   "metadata": {},
   "outputs": [],
   "source": [
    "\"\"\"\n",
    "The return statement in a Python function serves several important purposes:\n",
    "\n",
    "1. Returning a Value\n",
    "The primary purpose of the return statement is to return a value from a function to the caller. This allows the function to produce a result that can be used in expressions, assignments, or further calculations.\n",
    "\n",
    "Example:def add(a, b):\n",
    "    return a + b\n",
    "\n",
    "result = add(5, 3)\n",
    "print(result)  # Output: 8\n",
    "\n",
    "2. Ending Function Execution\n",
    "When a return statement is executed, it immediately ends the function’s execution. No code after the return statement in the function body will be executed.\n",
    "\n",
    "Example:def example():\n",
    "    print(\"This is printed.\")\n",
    "    return\n",
    "    print(\"This is not printed.\")\n",
    "\n",
    "example()\n",
    "# Output:\n",
    "# This is printed.\n",
    "\n",
    "# 3. Returning Multiple Values\n",
    "def min_and_max(numbers):\n",
    "    return min(numbers), max(numbers)\n",
    "\n",
    "min_val, max_val = min_and_max([1, 2, 3, 4, 5])\n",
    "print(f\"Min: {min_val}, Max: {max_val}\")\n",
    "# Output: Min: 1, Max: 5\n",
    "\n",
    "# 4.Returning None\n",
    "def no_return():\n",
    "    pass\n",
    "\n",
    "result = no_return()\n",
    "print(result)  # Output: None\n"
   ]
  },
  {
   "cell_type": "markdown",
   "id": "c700df20-8982-4941-bd7a-3e0a1a418d63",
   "metadata": {},
   "source": [
    "# 5. What are iterators in Python and how do they differ from iterables?\r\n",
    "\r"
   ]
  },
  {
   "cell_type": "code",
   "execution_count": 1,
   "id": "a61ad032-32bd-4df0-a83b-ddbac7497f98",
   "metadata": {},
   "outputs": [
    {
     "data": {
      "text/plain": [
       "'\\nDifferences:\\nDefinition:\\n\\nIterable: An object that can be iterated over (e.g., lists, tuples).\\nIterator: An object that allows you to fetch one item at a time from an iterable.\\nMethods:\\n\\nIterable: Must implement the __iter__() method.\\nIterator: Must implement both __iter__() and __next__() methods.\\nUsage:\\n\\nIterable: You use a for loop to iterate through an iterable.\\nIterator: You explicitly use next() to get the next value.\\nReusability:\\n\\nIterable: Can be iterated over multiple times (e.g., you can loop over a list more than once).\\nIterator: Can only be iterated once. Once all elements are exhausted, it cannot be reset unless you re-create it.\\n'"
      ]
     },
     "execution_count": 1,
     "metadata": {},
     "output_type": "execute_result"
    }
   ],
   "source": [
    "# iterators:in Python, an iterator is an object that allows you to traverse through all the elements of a collection (like a list, tuple, dictionary, etc.) one element at a time, without needing to rely on indexing.\n",
    "\"\"\"\n",
    "Key Concepts:\n",
    "Iterable: Any Python object that can return an iterator. Examples include lists, tuples, strings, dictionaries, and sets.\n",
    "Iterator: An object that implements two methods:\n",
    "__iter__(): Returns the iterator object itself.\n",
    "__next__(): Returns the next item from the collection. When no more items are available, it raises a StopIteration exception.\n",
    "\"\"\"\n",
    "#\n",
    "\"\"\"\n",
    "Differences:\n",
    "Definition:\n",
    "\n",
    "Iterable: An object that can be iterated over (e.g., lists, tuples).\n",
    "Iterator: An object that allows you to fetch one item at a time from an iterable.\n",
    "Methods:\n",
    "\n",
    "Iterable: Must implement the __iter__() method.\n",
    "Iterator: Must implement both __iter__() and __next__() methods.\n",
    "Usage:\n",
    "\n",
    "Iterable: You use a for loop to iterate through an iterable.\n",
    "Iterator: You explicitly use next() to get the next value.\n",
    "Reusability:\n",
    "\n",
    "Iterable: Can be iterated over multiple times (e.g., you can loop over a list more than once).\n",
    "Iterator: Can only be iterated once. Once all elements are exhausted, it cannot be reset unless you re-create it.\n",
    "\"\"\""
   ]
  },
  {
   "cell_type": "markdown",
   "id": "24803aff-ac86-42bd-b084-2265bcfafa4c",
   "metadata": {},
   "source": [
    "# 6.. Explain the concept of generators in Python and how they are defined."
   ]
  },
  {
   "cell_type": "code",
   "execution_count": 2,
   "id": "cd46c291-9262-48c9-906f-11fb27330cc0",
   "metadata": {},
   "outputs": [],
   "source": [
    "#can we have something to generate result one by one instead of one go then we use generator function \n",
    "# general function use return statement but generator function use yield statement for returning \n",
    "def square_numbers_generator(n):\n",
    "    for i in range(n):\n",
    "        yield i**2"
   ]
  },
  {
   "cell_type": "code",
   "execution_count": 5,
   "id": "7cee5c38-9b7c-486f-9c1b-4cf8c577618f",
   "metadata": {},
   "outputs": [],
   "source": [
    "gen=square_numbers_generator(5)"
   ]
  },
  {
   "cell_type": "code",
   "execution_count": 6,
   "id": "ae7b6fd1-f823-4962-a00c-0ffafd3912b6",
   "metadata": {},
   "outputs": [
    {
     "data": {
      "text/plain": [
       "0"
      ]
     },
     "execution_count": 6,
     "metadata": {},
     "output_type": "execute_result"
    }
   ],
   "source": [
    "next(gen)"
   ]
  },
  {
   "cell_type": "code",
   "execution_count": 7,
   "id": "b306b765-07ea-4365-bd6f-7c24b17ae203",
   "metadata": {},
   "outputs": [
    {
     "data": {
      "text/plain": [
       "1"
      ]
     },
     "execution_count": 7,
     "metadata": {},
     "output_type": "execute_result"
    }
   ],
   "source": [
    "next(gen)"
   ]
  },
  {
   "cell_type": "code",
   "execution_count": 8,
   "id": "0081decd-0081-427d-a252-da4c86e0607a",
   "metadata": {},
   "outputs": [
    {
     "data": {
      "text/plain": [
       "4"
      ]
     },
     "execution_count": 8,
     "metadata": {},
     "output_type": "execute_result"
    }
   ],
   "source": [
    "next(gen)"
   ]
  },
  {
   "cell_type": "code",
   "execution_count": 9,
   "id": "de90303e-2cc4-481f-a80b-a2c11ca76a68",
   "metadata": {},
   "outputs": [
    {
     "data": {
      "text/plain": [
       "9"
      ]
     },
     "execution_count": 9,
     "metadata": {},
     "output_type": "execute_result"
    }
   ],
   "source": [
    "next(gen)"
   ]
  },
  {
   "cell_type": "code",
   "execution_count": 10,
   "id": "5b1babf6-6da9-4d16-8593-e04927a6bac1",
   "metadata": {},
   "outputs": [
    {
     "data": {
      "text/plain": [
       "16"
      ]
     },
     "execution_count": 10,
     "metadata": {},
     "output_type": "execute_result"
    }
   ],
   "source": [
    "next(gen)"
   ]
  },
  {
   "cell_type": "markdown",
   "id": "8ad13a01-bbfd-465b-90eb-deca771c1767",
   "metadata": {},
   "source": [
    "# 7. What are the advantages of using generators over regular functions?"
   ]
  },
  {
   "cell_type": "code",
   "execution_count": 12,
   "id": "c1898ac9-f0f6-4d82-a1a1-fd56cc99c192",
   "metadata": {},
   "outputs": [],
   "source": [
    "# regular function returns the result one go so more memoey used and more time taken thats why when calculate any bigger value using regular function then some time error throw \n",
    "\n",
    "# but generators function use yield statement for returning value one by one so less memory required and time taken ->>less compare to regular function \n",
    "# ex of regular :\n",
    "def square_number(n):  # here n is the range \n",
    "    result=[]\n",
    "    for i in range(n):\n",
    "        result.append(i**2)\n",
    "    return result"
   ]
  },
  {
   "cell_type": "code",
   "execution_count": 13,
   "id": "9e4a2edc-fcf9-46bb-a602-7904daa23242",
   "metadata": {},
   "outputs": [
    {
     "data": {
      "text/plain": [
       "[0, 1, 4, 9, 16]"
      ]
     },
     "execution_count": 13,
     "metadata": {},
     "output_type": "execute_result"
    }
   ],
   "source": [
    "square_number(5)"
   ]
  },
  {
   "cell_type": "code",
   "execution_count": 14,
   "id": "a8662bdb-8d85-4e5b-a1b5-90e1c52909f4",
   "metadata": {},
   "outputs": [],
   "source": [
    "# ex of generators function :\n",
    "def square_numbers_generator(n):\n",
    "    for i in range(n):\n",
    "        yield i**2"
   ]
  },
  {
   "cell_type": "code",
   "execution_count": 15,
   "id": "12f3a786-d52e-42f8-8826-e77d35769d4c",
   "metadata": {},
   "outputs": [],
   "source": [
    "gen=square_numbers_generator(5)"
   ]
  },
  {
   "cell_type": "code",
   "execution_count": 16,
   "id": "26bc76e1-c65b-44dd-8ff6-3d15d86e9704",
   "metadata": {},
   "outputs": [
    {
     "data": {
      "text/plain": [
       "0"
      ]
     },
     "execution_count": 16,
     "metadata": {},
     "output_type": "execute_result"
    }
   ],
   "source": [
    "next(gen)"
   ]
  },
  {
   "cell_type": "code",
   "execution_count": 17,
   "id": "348bbd5e-9810-4a83-8638-41aff7ce0fd5",
   "metadata": {},
   "outputs": [
    {
     "data": {
      "text/plain": [
       "1"
      ]
     },
     "execution_count": 17,
     "metadata": {},
     "output_type": "execute_result"
    }
   ],
   "source": [
    "next(gen)"
   ]
  },
  {
   "cell_type": "code",
   "execution_count": 18,
   "id": "f960c2e1-6df6-437a-ac24-7df868352f14",
   "metadata": {},
   "outputs": [
    {
     "data": {
      "text/plain": [
       "4"
      ]
     },
     "execution_count": 18,
     "metadata": {},
     "output_type": "execute_result"
    }
   ],
   "source": [
    "next(gen)"
   ]
  },
  {
   "cell_type": "code",
   "execution_count": 19,
   "id": "8ed8d9f2-f1a1-44a6-a20d-37ee1399c910",
   "metadata": {},
   "outputs": [
    {
     "data": {
      "text/plain": [
       "9"
      ]
     },
     "execution_count": 19,
     "metadata": {},
     "output_type": "execute_result"
    }
   ],
   "source": [
    "next(gen)"
   ]
  },
  {
   "cell_type": "code",
   "execution_count": 20,
   "id": "801b03be-9df0-4649-b4da-6a0f1f33235e",
   "metadata": {},
   "outputs": [
    {
     "data": {
      "text/plain": [
       "16"
      ]
     },
     "execution_count": 20,
     "metadata": {},
     "output_type": "execute_result"
    }
   ],
   "source": [
    "next(gen)"
   ]
  },
  {
   "cell_type": "markdown",
   "id": "c514baae-58bd-4873-b4b2-7ee2703663e2",
   "metadata": {},
   "source": [
    "# 8. What is a lambda function in Python and when is it typically used?"
   ]
  },
  {
   "cell_type": "code",
   "execution_count": 23,
   "id": "40ddb3e2-f1a3-4388-aa84-d49fb8cd7934",
   "metadata": {},
   "outputs": [],
   "source": [
    "\"\"\"\n",
    "In Python, a lambda function is a short, anonymous function that's useful for a variety of tasks, including: \n",
    "Simple mathematical calculations: Lambda functions are ideal for straightforward operations that can be written in a single line. \n",
    "Basic data transformations: Lambda functions are well-suited for basic data transformations. \n",
    "Arguments to higher-order functions: Lambda functions are often passed as arguments to higher-order functions like map(), filter(), and sorted(). \n",
    "Filtering lists: Lambda functions can be used to filter lists based on conditions. \n",
    "Squaring numbers in a list: Lambda functions can be used to run on each element of a list and return the square of that number.\n",
    "### typically lambda function  is uded in map,reduce,filter function as a function \n",
    "\"\"\"\n",
    "# syntax: lambda arguments:expression  ->> here no need for return and def keywords\n",
    "# ex:\n",
    "sq=lambda x:x**2"
   ]
  },
  {
   "cell_type": "code",
   "execution_count": 24,
   "id": "24d2e470-8f15-4e07-a4e3-94ee3946373c",
   "metadata": {},
   "outputs": [
    {
     "data": {
      "text/plain": [
       "625"
      ]
     },
     "execution_count": 24,
     "metadata": {},
     "output_type": "execute_result"
    }
   ],
   "source": [
    "sq(25)"
   ]
  },
  {
   "cell_type": "markdown",
   "id": "9a8f698c-7709-4538-a004-0651acf7d6ab",
   "metadata": {},
   "source": [
    "# 9. Explain the purpose and usage of the `map()` function in Python."
   ]
  },
  {
   "cell_type": "code",
   "execution_count": 29,
   "id": "99eed172-eeaa-4861-94fa-52ca44d7ee89",
   "metadata": {},
   "outputs": [
    {
     "data": {
      "text/plain": [
       "\"\\nnumbers = [1, 2, 3, 4]\\nlist( map(str, numbers))\\n # Output: ['1', '2', '3', '4']\\n \""
      ]
     },
     "execution_count": 29,
     "metadata": {},
     "output_type": "execute_result"
    }
   ],
   "source": [
    "# purpose:# map ->>Make an iterator that computes the function using arguments from each of the iterables.  Stops when the shortest iterable is exhausted\n",
    "# use:Common Uses of map():\n",
    "# 1. Applying a Function to All Elements of a List:\n",
    "# A function that squares a number\n",
    "\"\"\"\n",
    "def square(x):\n",
    "    return x * 2\n",
    "\n",
    "numbers = [1, 2, 3, 4]\n",
    "list( map(square, numbers))\n",
    "  # output:[2, 4, 6, 8]\n",
    "  \"\"\"\n",
    "# Using map() with Lambda Functions:\n",
    "\"\"\"\n",
    "numbers = [1, 2, 3, 4]\n",
    "list(map(lambda x:x**2,numbers))\n",
    "# output [1, 4, 9, 16]\n",
    "\"\"\"\n",
    "# . Applying a Built-in Function to an Iterable:\n",
    "\"\"\"\n",
    "numbers = [1, 2, 3, 4]\n",
    "list( map(str, numbers))\n",
    " # Output: ['1', '2', '3', '4']\n",
    " \"\"\"\n"
   ]
  },
  {
   "cell_type": "markdown",
   "id": "fadd179c-4fa8-4041-8b22-fbde0471d711",
   "metadata": {},
   "source": [
    "# 10.. What is the difference between `map()`, `reduce()`, and `filter()` functions in Python?"
   ]
  },
  {
   "cell_type": "code",
   "execution_count": 30,
   "id": "944fdeb2-2d0d-44ef-add4-5d7eec35b365",
   "metadata": {},
   "outputs": [
    {
     "data": {
      "text/plain": [
       "'\\n3. reduce() ( we have to import this function from functools library ):\\nPurpose: Apply a function cumulatively to the elements of an iterable, reducing the iterable to a single value. The function should take two arguments, and reduce() repeatedly applies the function to the elements (like summing, multiplying, or accumulating values).\\nUse case: When you need to reduce an iterable to a single accumulated value (e.g., sum of all elements, product of all elements).\\nSyntax:\\n\\nreduce(function, iterable, )\\n# ex:\\nl=[1,2,3,4,5,6]\\nreduce(lambda x,y:x*y,l)\\n# output:720\\n'"
      ]
     },
     "execution_count": 30,
     "metadata": {},
     "output_type": "execute_result"
    }
   ],
   "source": [
    "#he functions map(), reduce(), and filter() in Python are all used for processing iterables (like lists, tuples, etc.) in functional programming. They each serve a different purpose, which can be summarized as follows:\n",
    "\"\"\"\n",
    "1. map():\n",
    "Purpose: Apply a function to each element of an iterable and return an iterator of the results.\n",
    "Use case: When you want to transform or modify each element of an iterable by applying the same operation (like squaring, doubling, converting types, etc.).\n",
    "syntax: map(function ,iterable)\n",
    "# ex:\n",
    "numbers = [1, 2, 3, 4]\n",
    "list( map(lambda x: x ** 2, numbers))\n",
    "  # Output: [1, 4, 9, 16]\n",
    "\"\"\"\n",
    "\"\"\"\n",
    "2.filter():\n",
    "Purpose: Apply a function that returns True or False to each element of an iterable and return an iterator containing only the elements for which the function returned True.\n",
    "Use case: When you want to filter out certain elements from an iterable based on a condition (e.g., filter out even numbers, select items that meet a criterion).\n",
    "Syntax:filter(function, iterable)\n",
    "#ex:\n",
    "words=[\"data\",\"science\",\"courses\"]\n",
    "list(filter(lambda x:len(x)>5,words))\n",
    "# output:['science', 'courses']\n",
    "\"\"\"\n",
    "\"\"\"\n",
    "3. reduce() ( we have to import this function from functools library ):\n",
    "Purpose: Apply a function cumulatively to the elements of an iterable, reducing the iterable to a single value. The function should take two arguments, and reduce() repeatedly applies the function to the elements (like summing, multiplying, or accumulating values).\n",
    "Use case: When you need to reduce an iterable to a single accumulated value (e.g., sum of all elements, product of all elements).\n",
    "Syntax:\n",
    "\n",
    "reduce(function, iterable, )\n",
    "# ex:\n",
    "l=[1,2,3,4,5,6]\n",
    "reduce(lambda x,y:x*y,l)\n",
    "# output:720\n",
    "\"\"\""
   ]
  },
  {
   "cell_type": "markdown",
   "id": "a7903a4e-963c-4689-9a6a-22100c6282ca",
   "metadata": {},
   "source": [
    "# 11. Using pen & Paper write the internal mechanism for sum operation using  reduce function on this given\r\n",
    "list:[47,11,42,13]; "
   ]
  },
  {
   "cell_type": "code",
   "execution_count": 34,
   "id": "d4697a4f-18e6-45a8-a5c1-725b3c36730c",
   "metadata": {},
   "outputs": [
    {
     "data": {
      "text/plain": [
       "113"
      ]
     },
     "execution_count": 34,
     "metadata": {},
     "output_type": "execute_result"
    }
   ],
   "source": [
    "l1=[47,11,42,13]\n",
    "from functools import reduce\n",
    "reduce(lambda x,y:x+y,l1)"
   ]
  },
  {
   "cell_type": "code",
   "execution_count": null,
   "id": "f44bad3c-e2d5-4973-bab8-7b7a6c0d4053",
   "metadata": {},
   "outputs": [],
   "source": []
  },
  {
   "cell_type": "code",
   "execution_count": null,
   "id": "909abeaa-1b0b-4907-a5e9-91917470d813",
   "metadata": {},
   "outputs": [],
   "source": []
  },
  {
   "cell_type": "code",
   "execution_count": null,
   "id": "c4c9369b-0d9e-4c30-bd4d-19371d3cc23c",
   "metadata": {},
   "outputs": [],
   "source": []
  },
  {
   "cell_type": "markdown",
   "id": "ff26ad6f-bfa9-4e98-b7e4-d5102f3975c6",
   "metadata": {},
   "source": [
    "# practical\n",
    "# 1. Write a Python function that takes a list of numbers as input and returns the sum of all even numbers in the list\r",
    "."
   ]
  },
  {
   "cell_type": "code",
   "execution_count": 79,
   "id": "e015f7ec-53f9-4b61-9cd3-90f29635a9c5",
   "metadata": {},
   "outputs": [
    {
     "data": {
      "text/plain": [
       "12"
      ]
     },
     "execution_count": 79,
     "metadata": {},
     "output_type": "execute_result"
    }
   ],
   "source": [
    "l1=[1,2,3,4,5,6]\n",
    "list(filter(lambda n:n%2==0,l1))\n",
    "sum(filter(lambda n:n%2==0,l1))"
   ]
  },
  {
   "cell_type": "markdown",
   "id": "a609c27e-4a0a-4665-8e1f-6c83e9c5933d",
   "metadata": {},
   "source": [
    "# 2. Create a Python function that accepts a string and returns the reverse of that string."
   ]
  },
  {
   "cell_type": "code",
   "execution_count": 3,
   "id": "37747406-ca32-40bc-9969-729e1e1972f0",
   "metadata": {},
   "outputs": [],
   "source": [
    "str=\"pwskills\"\n",
    "def reverse_str(str):\n",
    "    a=str[: : -1]\n",
    "    return a;\n",
    "    "
   ]
  },
  {
   "cell_type": "code",
   "execution_count": 4,
   "id": "582c9b90-3b5f-46f8-bfa2-728ee9a91644",
   "metadata": {},
   "outputs": [
    {
     "data": {
      "text/plain": [
       "'sllikswp'"
      ]
     },
     "execution_count": 4,
     "metadata": {},
     "output_type": "execute_result"
    }
   ],
   "source": [
    "reverse_str(\"pwskills\")"
   ]
  },
  {
   "cell_type": "markdown",
   "id": "8dc5c451-0757-4b5c-bdbd-7742bdd164cf",
   "metadata": {},
   "source": [
    "# 3. Implement a Python function that takes a list of integers and returns a new list containing the squares of each number.\r",
    "."
   ]
  },
  {
   "cell_type": "code",
   "execution_count": 14,
   "id": "9bc7d599-7b44-4ae8-945c-e79e6084f9b6",
   "metadata": {},
   "outputs": [],
   "source": [
    "l1=[1,2,3,4]\n",
    "def sq(l1):\n",
    "    ans=[]\n",
    "    for i in l1:\n",
    "        ans.append(i**2)\n",
    "    return ans"
   ]
  },
  {
   "cell_type": "code",
   "execution_count": 15,
   "id": "aeb8760f-7ebf-44f6-b025-292842814554",
   "metadata": {},
   "outputs": [
    {
     "data": {
      "text/plain": [
       "[1, 4, 9, 16]"
      ]
     },
     "execution_count": 15,
     "metadata": {},
     "output_type": "execute_result"
    }
   ],
   "source": [
    "sq(l1)"
   ]
  },
  {
   "cell_type": "markdown",
   "id": "cb692980-c588-4785-94bd-5d8bdcfbd0de",
   "metadata": {},
   "source": [
    "#  4.Write a Python function that checks if a given number is prime or not from 1 to 200."
   ]
  },
  {
   "cell_type": "code",
   "execution_count": 30,
   "id": "79e05870-a8b3-4748-8212-2b78435a9265",
   "metadata": {},
   "outputs": [
    {
     "name": "stdout",
     "output_type": "stream",
     "text": [
      "1 is not a prime number.\n",
      "2 is a prime number.\n",
      "3 is a prime number.\n",
      "4 is not a prime number.\n",
      "5 is a prime number.\n",
      "6 is not a prime number.\n",
      "7 is a prime number.\n",
      "8 is not a prime number.\n",
      "9 is not a prime number.\n",
      "10 is not a prime number.\n",
      "11 is a prime number.\n",
      "12 is not a prime number.\n",
      "13 is a prime number.\n",
      "14 is not a prime number.\n",
      "15 is not a prime number.\n",
      "16 is not a prime number.\n",
      "17 is a prime number.\n",
      "18 is not a prime number.\n",
      "19 is a prime number.\n",
      "20 is not a prime number.\n",
      "21 is not a prime number.\n",
      "22 is not a prime number.\n",
      "23 is a prime number.\n",
      "24 is not a prime number.\n",
      "25 is not a prime number.\n",
      "26 is not a prime number.\n",
      "27 is not a prime number.\n",
      "28 is not a prime number.\n",
      "29 is a prime number.\n",
      "30 is not a prime number.\n",
      "31 is a prime number.\n",
      "32 is not a prime number.\n",
      "33 is not a prime number.\n",
      "34 is not a prime number.\n",
      "35 is not a prime number.\n",
      "36 is not a prime number.\n",
      "37 is a prime number.\n",
      "38 is not a prime number.\n",
      "39 is not a prime number.\n",
      "40 is not a prime number.\n",
      "41 is a prime number.\n",
      "42 is not a prime number.\n",
      "43 is a prime number.\n",
      "44 is not a prime number.\n",
      "45 is not a prime number.\n",
      "46 is not a prime number.\n",
      "47 is a prime number.\n",
      "48 is not a prime number.\n",
      "49 is not a prime number.\n",
      "50 is not a prime number.\n",
      "51 is not a prime number.\n",
      "52 is not a prime number.\n",
      "53 is a prime number.\n",
      "54 is not a prime number.\n",
      "55 is not a prime number.\n",
      "56 is not a prime number.\n",
      "57 is not a prime number.\n",
      "58 is not a prime number.\n",
      "59 is a prime number.\n",
      "60 is not a prime number.\n",
      "61 is a prime number.\n",
      "62 is not a prime number.\n",
      "63 is not a prime number.\n",
      "64 is not a prime number.\n",
      "65 is not a prime number.\n",
      "66 is not a prime number.\n",
      "67 is a prime number.\n",
      "68 is not a prime number.\n",
      "69 is not a prime number.\n",
      "70 is not a prime number.\n",
      "71 is a prime number.\n",
      "72 is not a prime number.\n",
      "73 is a prime number.\n",
      "74 is not a prime number.\n",
      "75 is not a prime number.\n",
      "76 is not a prime number.\n",
      "77 is not a prime number.\n",
      "78 is not a prime number.\n",
      "79 is a prime number.\n",
      "80 is not a prime number.\n",
      "81 is not a prime number.\n",
      "82 is not a prime number.\n",
      "83 is a prime number.\n",
      "84 is not a prime number.\n",
      "85 is not a prime number.\n",
      "86 is not a prime number.\n",
      "87 is not a prime number.\n",
      "88 is not a prime number.\n",
      "89 is a prime number.\n",
      "90 is not a prime number.\n",
      "91 is not a prime number.\n",
      "92 is not a prime number.\n",
      "93 is not a prime number.\n",
      "94 is not a prime number.\n",
      "95 is not a prime number.\n",
      "96 is not a prime number.\n",
      "97 is a prime number.\n",
      "98 is not a prime number.\n",
      "99 is not a prime number.\n",
      "100 is not a prime number.\n",
      "101 is a prime number.\n",
      "102 is not a prime number.\n",
      "103 is a prime number.\n",
      "104 is not a prime number.\n",
      "105 is not a prime number.\n",
      "106 is not a prime number.\n",
      "107 is a prime number.\n",
      "108 is not a prime number.\n",
      "109 is a prime number.\n",
      "110 is not a prime number.\n",
      "111 is not a prime number.\n",
      "112 is not a prime number.\n",
      "113 is a prime number.\n",
      "114 is not a prime number.\n",
      "115 is not a prime number.\n",
      "116 is not a prime number.\n",
      "117 is not a prime number.\n",
      "118 is not a prime number.\n",
      "119 is not a prime number.\n",
      "120 is not a prime number.\n",
      "121 is not a prime number.\n",
      "122 is not a prime number.\n",
      "123 is not a prime number.\n",
      "124 is not a prime number.\n",
      "125 is not a prime number.\n",
      "126 is not a prime number.\n",
      "127 is a prime number.\n",
      "128 is not a prime number.\n",
      "129 is not a prime number.\n",
      "130 is not a prime number.\n",
      "131 is a prime number.\n",
      "132 is not a prime number.\n",
      "133 is not a prime number.\n",
      "134 is not a prime number.\n",
      "135 is not a prime number.\n",
      "136 is not a prime number.\n",
      "137 is a prime number.\n",
      "138 is not a prime number.\n",
      "139 is a prime number.\n",
      "140 is not a prime number.\n",
      "141 is not a prime number.\n",
      "142 is not a prime number.\n",
      "143 is not a prime number.\n",
      "144 is not a prime number.\n",
      "145 is not a prime number.\n",
      "146 is not a prime number.\n",
      "147 is not a prime number.\n",
      "148 is not a prime number.\n",
      "149 is a prime number.\n",
      "150 is not a prime number.\n",
      "151 is a prime number.\n",
      "152 is not a prime number.\n",
      "153 is not a prime number.\n",
      "154 is not a prime number.\n",
      "155 is not a prime number.\n",
      "156 is not a prime number.\n",
      "157 is a prime number.\n",
      "158 is not a prime number.\n",
      "159 is not a prime number.\n",
      "160 is not a prime number.\n",
      "161 is not a prime number.\n",
      "162 is not a prime number.\n",
      "163 is a prime number.\n",
      "164 is not a prime number.\n",
      "165 is not a prime number.\n",
      "166 is not a prime number.\n",
      "167 is a prime number.\n",
      "168 is not a prime number.\n",
      "169 is not a prime number.\n",
      "170 is not a prime number.\n",
      "171 is not a prime number.\n",
      "172 is not a prime number.\n",
      "173 is a prime number.\n",
      "174 is not a prime number.\n",
      "175 is not a prime number.\n",
      "176 is not a prime number.\n",
      "177 is not a prime number.\n",
      "178 is not a prime number.\n",
      "179 is a prime number.\n",
      "180 is not a prime number.\n",
      "181 is a prime number.\n",
      "182 is not a prime number.\n",
      "183 is not a prime number.\n",
      "184 is not a prime number.\n",
      "185 is not a prime number.\n",
      "186 is not a prime number.\n",
      "187 is not a prime number.\n",
      "188 is not a prime number.\n",
      "189 is not a prime number.\n",
      "190 is not a prime number.\n",
      "191 is a prime number.\n",
      "192 is not a prime number.\n",
      "193 is a prime number.\n",
      "194 is not a prime number.\n",
      "195 is not a prime number.\n",
      "196 is not a prime number.\n",
      "197 is a prime number.\n",
      "198 is not a prime number.\n",
      "199 is a prime number.\n",
      "200 is not a prime number.\n"
     ]
    }
   ],
   "source": [
    "def is_prime(n):\n",
    "    if n <= 1:\n",
    "        return False\n",
    "    if n == 2:\n",
    "        return True\n",
    "    if n % 2 == 0:\n",
    "        return False\n",
    "    for i in range(3, int(n**0.5) + 1):\n",
    "        if n % i == 0:\n",
    "            return False\n",
    "    return True\n",
    "\n",
    "# here range is 1 to 200\n",
    "for num in range(1, 201):\n",
    "    if is_prime(num):\n",
    "        print(f\"{num} is a prime number.\")\n",
    "    else:\n",
    "        print(f\"{num} is not a prime number.\")\n"
   ]
  },
  {
   "cell_type": "markdown",
   "id": "32e2ec39-ea67-4ec2-a17c-ee40ba4461ec",
   "metadata": {},
   "source": [
    "# 5. Create an iterator class in Python that generates the Fibonacci sequence up to a specified number of terms .\r",
    "."
   ]
  },
  {
   "cell_type": "code",
   "execution_count": 31,
   "id": "8e0e8a24-b556-4d89-8652-a03a2e1db007",
   "metadata": {},
   "outputs": [
    {
     "name": "stdout",
     "output_type": "stream",
     "text": [
      "0\n",
      "1\n",
      "1\n",
      "2\n",
      "3\n",
      "5\n",
      "8\n",
      "13\n",
      "21\n",
      "34\n"
     ]
    }
   ],
   "source": [
    "class FibonacciIterator:\n",
    "    def __init__(self, num_terms):\n",
    "        self.num_terms = num_terms  \n",
    "        self.current_term = 0       \n",
    "        self.a, self.b = 0, 1       \n",
    "    \n",
    "    def __iter__(self):\n",
    "        return self\n",
    "    \n",
    "    def __next__(self):\n",
    "        if self.current_term >= self.num_terms:\n",
    "            raise StopIteration \n",
    "        \n",
    "        if self.current_term == 0:\n",
    "            self.current_term += 1\n",
    "            return 0  # First term is always 0\n",
    "        \n",
    "        if self.current_term == 1:\n",
    "            self.current_term += 1\n",
    "            return 1  \n",
    "        \n",
    "        #  calculate Fibonacci\n",
    "        fib = self.a + self.b\n",
    "        self.a, self.b = self.b, fib  \n",
    "        self.current_term += 1\n",
    "        return fib\n",
    "\n",
    "# Example usage:\n",
    "fib_iter = FibonacciIterator(10)  \n",
    "for fib_number in fib_iter:\n",
    "    print(fib_number)\n"
   ]
  },
  {
   "cell_type": "markdown",
   "id": "8437ba66-61b9-488b-bc3d-0da3e6a04bde",
   "metadata": {},
   "source": [
    "# 6.. Write a generator function in Python that yields the powers of 2 up to a given exponent."
   ]
  },
  {
   "cell_type": "code",
   "execution_count": 46,
   "id": "3384e3ba-ebc9-4174-b1c7-7d08c3068adb",
   "metadata": {},
   "outputs": [],
   "source": [
    "def square_numbers_generator(n):\n",
    "    for i in range(n):\n",
    "        yield 2**i"
   ]
  },
  {
   "cell_type": "code",
   "execution_count": 47,
   "id": "24d16315-4ed4-45c2-b107-052ef85bb830",
   "metadata": {},
   "outputs": [
    {
     "data": {
      "text/plain": [
       "<generator object square_numbers_generator at 0x00000275B7FE0930>"
      ]
     },
     "execution_count": 47,
     "metadata": {},
     "output_type": "execute_result"
    }
   ],
   "source": [
    "square_numbers_generator(10)"
   ]
  },
  {
   "cell_type": "code",
   "execution_count": 48,
   "id": "8968d4b5-7885-489f-b6a1-f249ee976b19",
   "metadata": {},
   "outputs": [],
   "source": [
    "gen=square_numbers_generator(10)"
   ]
  },
  {
   "cell_type": "code",
   "execution_count": 49,
   "id": "226531bb-badc-40c5-8199-c0eae38e55c1",
   "metadata": {},
   "outputs": [
    {
     "data": {
      "text/plain": [
       "1"
      ]
     },
     "execution_count": 49,
     "metadata": {},
     "output_type": "execute_result"
    }
   ],
   "source": [
    "next(gen)"
   ]
  },
  {
   "cell_type": "code",
   "execution_count": 50,
   "id": "265d96dd-0c83-4090-8d4d-7864ffe2a2e3",
   "metadata": {},
   "outputs": [
    {
     "data": {
      "text/plain": [
       "2"
      ]
     },
     "execution_count": 50,
     "metadata": {},
     "output_type": "execute_result"
    }
   ],
   "source": [
    "next(gen)"
   ]
  },
  {
   "cell_type": "code",
   "execution_count": 51,
   "id": "ff972217-f015-4e53-9b20-74eb2628f672",
   "metadata": {},
   "outputs": [
    {
     "data": {
      "text/plain": [
       "4"
      ]
     },
     "execution_count": 51,
     "metadata": {},
     "output_type": "execute_result"
    }
   ],
   "source": [
    "next(gen)"
   ]
  },
  {
   "cell_type": "code",
   "execution_count": 52,
   "id": "51286de3-75f0-4447-8fa6-c51b412cb7a4",
   "metadata": {},
   "outputs": [
    {
     "data": {
      "text/plain": [
       "8"
      ]
     },
     "execution_count": 52,
     "metadata": {},
     "output_type": "execute_result"
    }
   ],
   "source": [
    "next(gen)"
   ]
  },
  {
   "cell_type": "code",
   "execution_count": 53,
   "id": "ab2d145b-541f-4c01-a9c9-4a9e17b83916",
   "metadata": {},
   "outputs": [
    {
     "data": {
      "text/plain": [
       "16"
      ]
     },
     "execution_count": 53,
     "metadata": {},
     "output_type": "execute_result"
    }
   ],
   "source": [
    "next(gen)"
   ]
  },
  {
   "cell_type": "code",
   "execution_count": 54,
   "id": "bb92832f-42c0-4066-b6a4-87c3162fd1cf",
   "metadata": {},
   "outputs": [
    {
     "data": {
      "text/plain": [
       "32"
      ]
     },
     "execution_count": 54,
     "metadata": {},
     "output_type": "execute_result"
    }
   ],
   "source": [
    "next(gen)"
   ]
  },
  {
   "cell_type": "code",
   "execution_count": 55,
   "id": "08ab0098-47a5-497a-8fad-3452b2ae7693",
   "metadata": {},
   "outputs": [
    {
     "data": {
      "text/plain": [
       "64"
      ]
     },
     "execution_count": 55,
     "metadata": {},
     "output_type": "execute_result"
    }
   ],
   "source": [
    "next(gen)"
   ]
  },
  {
   "cell_type": "code",
   "execution_count": 56,
   "id": "85dcb71c-a7fb-452b-a147-f993fbdfdd7a",
   "metadata": {},
   "outputs": [
    {
     "data": {
      "text/plain": [
       "128"
      ]
     },
     "execution_count": 56,
     "metadata": {},
     "output_type": "execute_result"
    }
   ],
   "source": [
    "next(gen)"
   ]
  },
  {
   "cell_type": "code",
   "execution_count": 57,
   "id": "03bf5b69-62ca-4dfa-aa64-3ab832796c0d",
   "metadata": {},
   "outputs": [
    {
     "data": {
      "text/plain": [
       "256"
      ]
     },
     "execution_count": 57,
     "metadata": {},
     "output_type": "execute_result"
    }
   ],
   "source": [
    "next(gen)"
   ]
  },
  {
   "cell_type": "code",
   "execution_count": 58,
   "id": "00605066-358d-4773-8658-0a74fd1a3f52",
   "metadata": {},
   "outputs": [
    {
     "data": {
      "text/plain": [
       "512"
      ]
     },
     "execution_count": 58,
     "metadata": {},
     "output_type": "execute_result"
    }
   ],
   "source": [
    "next(gen)"
   ]
  },
  {
   "cell_type": "markdown",
   "id": "236d7bf0-9d0a-4db4-a278-1489da985526",
   "metadata": {},
   "source": [
    "# 7. Implement a generator function that reads a file line by line and yields each line as a string."
   ]
  },
  {
   "cell_type": "code",
   "execution_count": 64,
   "id": "43c2ef2a-ff06-4b59-a07f-61df1603aef6",
   "metadata": {},
   "outputs": [],
   "source": [
    "L = [\"Geeks\\n\", \"for\\n\", \"Geeks\\n\"]\n",
    "def read_file_line_by_line(file_path):\n",
    "    with open(file_path, 'r') as file:\n",
    "        for line in file:\n",
    "            yield line.strip()  # Yield each line without trailing newline characters\n",
    "\n",
    "\n"
   ]
  },
  {
   "cell_type": "code",
   "execution_count": 77,
   "id": "53d5aa38-54ee-4f6c-b405-f5880d0fae94",
   "metadata": {},
   "outputs": [
    {
     "name": "stdout",
     "output_type": "stream",
     "text": [
      "<generator object read_file_line_by_line at 0x00000275B8283B50>\n"
     ]
    }
   ],
   "source": [
    "gen1=read_file_line_by_line(L)\n",
    "print(gen)"
   ]
  },
  {
   "cell_type": "code",
   "execution_count": 75,
   "id": "f3c2e290-8dd3-4a64-9d74-13da0ceeb31e",
   "metadata": {},
   "outputs": [
    {
     "name": "stdout",
     "output_type": "stream",
     "text": [
      "Geeks\n",
      "\n",
      "for\n",
      "\n",
      "Geeks\n",
      "\n"
     ]
    }
   ],
   "source": [
    "for i in L :\n",
    "    print (i)"
   ]
  },
  {
   "cell_type": "markdown",
   "id": "6fb565f4-7a0a-4909-9328-0de80e86a11a",
   "metadata": {},
   "source": [
    "# 8.. Use a lambda function in Python to sort a list of tuples based on the second element of each tuple."
   ]
  },
  {
   "cell_type": "code",
   "execution_count": 80,
   "id": "f46cf7a8-f05f-45bc-9173-2877d88a7ae0",
   "metadata": {},
   "outputs": [],
   "source": [
    "tup_lis=[(2,1),(5,4),(7,3),(1,1)]\n",
    "sorted_list = sorted(tup_lis, key=lambda x: x[1])"
   ]
  },
  {
   "cell_type": "code",
   "execution_count": 81,
   "id": "8dceb93f-0bb2-41ef-8894-eafea5b67289",
   "metadata": {},
   "outputs": [
    {
     "name": "stdout",
     "output_type": "stream",
     "text": [
      "[(2, 1), (1, 1), (7, 3), (5, 4)]\n"
     ]
    }
   ],
   "source": [
    "print(sorted_list)"
   ]
  },
  {
   "cell_type": "markdown",
   "id": "35265f1f-6e7b-44e2-9521-ab631fc572df",
   "metadata": {},
   "source": [
    "# 9. Write a Python program that uses `map()` to convert a list of temperatures from Celsius to Fahrenheit."
   ]
  },
  {
   "cell_type": "code",
   "execution_count": 82,
   "id": "ac391294-c53a-4abb-a932-7045b77289a0",
   "metadata": {},
   "outputs": [],
   "source": [
    "cel=[0,20,30,40]\n",
    "def celsius_to_fahrenheit(celsius):\n",
    "    return (celsius * 9/5) + 32"
   ]
  },
  {
   "cell_type": "code",
   "execution_count": 83,
   "id": "e274a438-e5e0-48a6-bf6f-3b46766a00c8",
   "metadata": {},
   "outputs": [
    {
     "data": {
      "text/plain": [
       "[32.0, 68.0, 86.0, 104.0]"
      ]
     },
     "execution_count": 83,
     "metadata": {},
     "output_type": "execute_result"
    }
   ],
   "source": [
    "list(map(celsius_to_fahrenheit,cel))"
   ]
  },
  {
   "cell_type": "markdown",
   "id": "f0e6022b-efcf-4613-8ff4-a8d9288bb452",
   "metadata": {},
   "source": [
    "# 10. Create a Python program that uses `filter()` to remove all the vowels from a given string."
   ]
  },
  {
   "cell_type": "code",
   "execution_count": 85,
   "id": "f1ba478f-7104-4de9-b640-f8ff95b71634",
   "metadata": {},
   "outputs": [
    {
     "data": {
      "text/plain": [
       "['p', 'w', 's', 'k', 'l', 'l', 's']"
      ]
     },
     "execution_count": 85,
     "metadata": {},
     "output_type": "execute_result"
    }
   ],
   "source": [
    "str=\"pwskills\"\n",
    "vowel=\"aeiouAEIOU\"\n",
    "list(filter(lambda c:c not in vowel,str))"
   ]
  },
  {
   "cell_type": "code",
   "execution_count": 86,
   "id": "bb537236-01df-4ed0-bb49-941e82473b0c",
   "metadata": {},
   "outputs": [
    {
     "data": {
      "text/plain": [
       "['d', 'c', 't', 'n']"
      ]
     },
     "execution_count": 86,
     "metadata": {},
     "output_type": "execute_result"
    }
   ],
   "source": [
    "# enother ex:\n",
    "str=\"education\"\n",
    "vowel=\"aeiouAEIOU\"\n",
    "list(filter(lambda c:c not in vowel,str))"
   ]
  },
  {
   "cell_type": "code",
   "execution_count": 91,
   "id": "47d7444f-a3bf-4094-acfc-5fc4e1773000",
   "metadata": {},
   "outputs": [
    {
     "name": "stdout",
     "output_type": "stream",
     "text": [
      "[('34587', 163.8), ('98762', 284.0), ('77226', 108.85000000000001), ('88112', 84.97)]\n"
     ]
    }
   ],
   "source": [
    "#  the minimum order threshold\n",
    "min_order = 100\n",
    "\n",
    "# List of orders in the format [Order ID, Description, Quantity, Price per item]\n",
    "orders = [\n",
    "    [\"34587\", \"Learning Python, Mark Lutz\", 4, 40.95],\n",
    "    [\"98762\", \"Programming Python, Mark Lutz\", 5, 56.80],\n",
    "    [\"77226\", \"Head First Python, Paul Barry\", 3, 32.95],\n",
    "    [\"88112\", \"Einführung in Python3, Bernd Klein\", 3, 24.99]\n",
    "]\n",
    "\n",
    "# Calculate invoice totals using map and lambda\n",
    "invoice_totals = list(map(lambda x: x if x[1] >= min_order else (x[0], x[1] + 10),\n",
    "                          map(lambda x: (x[0], x[2] * x[3]), orders)))\n",
    "\n",
    "\n",
    "print(invoice_totals)\n"
   ]
  },
  {
   "cell_type": "code",
   "execution_count": null,
   "id": "d37a18b0-670a-48ba-8524-cbbb3c734b8e",
   "metadata": {},
   "outputs": [],
   "source": []
  },
  {
   "cell_type": "code",
   "execution_count": null,
   "id": "47549357-38bd-4769-92fc-c9d4e65e09e9",
   "metadata": {},
   "outputs": [],
   "source": []
  }
 ],
 "metadata": {
  "kernelspec": {
   "display_name": "Python 3 (ipykernel)",
   "language": "python",
   "name": "python3"
  },
  "language_info": {
   "codemirror_mode": {
    "name": "ipython",
    "version": 3
   },
   "file_extension": ".py",
   "mimetype": "text/x-python",
   "name": "python",
   "nbconvert_exporter": "python",
   "pygments_lexer": "ipython3",
   "version": "3.11.7"
  }
 },
 "nbformat": 4,
 "nbformat_minor": 5
}
